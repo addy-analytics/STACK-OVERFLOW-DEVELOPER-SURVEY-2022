{
 "cells": [
  {
   "cell_type": "markdown",
   "id": "ede92546",
   "metadata": {},
   "source": [
    "# Exploratory Data Analysis using Python (EDA) - A Case Study\n",
    "\n",
    "*Analyzing responses from the Stack Overflow Annual Developer Survey 2022 by Jessica Addy*\n",
    "\n",
    "This is an EDA of 2022's Stack Overflow Developer Survey, an annual and longest running survey of software developers (and anyone else who codes!) on Earth. I thought it would be a good idea to analyze information on Demographics, Programming abilities and experience, employment, and Stack Overflow Usage of respondents since developers frequently visit the website. You can find the raw data & official analysis here: https://insights.stackoverflow.com/survey. This Notebook makes use of Python packages like Pandas (for Data Cleaning/Manipulation), MatPlotlib (for Data Exploration), and Seaborn(for some Data Visualisation)"
   ]
  },
  {
   "cell_type": "markdown",
   "id": "f922e685",
   "metadata": {},
   "source": [
    "## Content\n",
    "1. Import Libraries\n",
    "\n",
    "2. Import CSV files\n",
    "\n",
    "3. Data Processing and Cleaning\n",
    "\n",
    "4. Data Exploration and Visualization\n",
    "\n",
    "5. Closing Remarks and Links"
   ]
  },
  {
   "cell_type": "markdown",
   "id": "00c6ebf7",
   "metadata": {},
   "source": [
    "## 1. Importing Libraries\n",
    "\n",
    "Import all the libraries to be used in this notebook. I prefer to do this at the initial stage and add more libraries when needed"
   ]
  },
  {
   "cell_type": "code",
   "execution_count": 1,
   "id": "46a45182",
   "metadata": {},
   "outputs": [],
   "source": [
    "import numpy as np\n",
    "import pandas as pd\n",
    "import seaborn as sns\n",
    "import matplotlib.pyplot as plt\n",
    "import warnings\n",
    "warnings.filterwarnings('ignore')\n",
    "%matplotlib inline\n",
    "\n",
    "#setting basic styles\n",
    "sns.set_style('darkgrid')\n",
    "plt.rcParams['font.size'] = 14\n",
    "plt.rcParams['figure.figsize'] = (10, 5)\n",
    "plt.rcParams['figure.facecolor'] = '#00000000'"
   ]
  },
  {
   "cell_type": "markdown",
   "id": "d3ff5c88",
   "metadata": {},
   "source": [
    "## 2. Importing Survey CSV Files\n",
    "Import all the csv files (survey data + schema files) to be used in this notebook. "
   ]
  },
  {
   "cell_type": "code",
   "execution_count": 2,
   "id": "e8c8edad",
   "metadata": {},
   "outputs": [],
   "source": [
    "#importing survey result file\n",
    "survey_filename ='survey_results_public.csv'\n",
    "survey_df = pd.read_csv(survey_filename, index_col='ResponseId')"
   ]
  },
  {
   "cell_type": "code",
   "execution_count": 3,
   "id": "87c7834d",
   "metadata": {},
   "outputs": [
    {
     "data": {
      "text/html": [
       "<div>\n",
       "<style scoped>\n",
       "    .dataframe tbody tr th:only-of-type {\n",
       "        vertical-align: middle;\n",
       "    }\n",
       "\n",
       "    .dataframe tbody tr th {\n",
       "        vertical-align: top;\n",
       "    }\n",
       "\n",
       "    .dataframe thead th {\n",
       "        text-align: right;\n",
       "    }\n",
       "</style>\n",
       "<table border=\"1\" class=\"dataframe\">\n",
       "  <thead>\n",
       "    <tr style=\"text-align: right;\">\n",
       "      <th></th>\n",
       "      <th>MainBranch</th>\n",
       "      <th>Employment</th>\n",
       "      <th>RemoteWork</th>\n",
       "      <th>CodingActivities</th>\n",
       "      <th>EdLevel</th>\n",
       "      <th>LearnCode</th>\n",
       "      <th>LearnCodeOnline</th>\n",
       "      <th>LearnCodeCoursesCert</th>\n",
       "      <th>YearsCode</th>\n",
       "      <th>YearsCodePro</th>\n",
       "      <th>...</th>\n",
       "      <th>TimeSearching</th>\n",
       "      <th>TimeAnswering</th>\n",
       "      <th>Onboarding</th>\n",
       "      <th>ProfessionalTech</th>\n",
       "      <th>TrueFalse_1</th>\n",
       "      <th>TrueFalse_2</th>\n",
       "      <th>TrueFalse_3</th>\n",
       "      <th>SurveyLength</th>\n",
       "      <th>SurveyEase</th>\n",
       "      <th>ConvertedCompYearly</th>\n",
       "    </tr>\n",
       "    <tr>\n",
       "      <th>ResponseId</th>\n",
       "      <th></th>\n",
       "      <th></th>\n",
       "      <th></th>\n",
       "      <th></th>\n",
       "      <th></th>\n",
       "      <th></th>\n",
       "      <th></th>\n",
       "      <th></th>\n",
       "      <th></th>\n",
       "      <th></th>\n",
       "      <th></th>\n",
       "      <th></th>\n",
       "      <th></th>\n",
       "      <th></th>\n",
       "      <th></th>\n",
       "      <th></th>\n",
       "      <th></th>\n",
       "      <th></th>\n",
       "      <th></th>\n",
       "      <th></th>\n",
       "      <th></th>\n",
       "    </tr>\n",
       "  </thead>\n",
       "  <tbody>\n",
       "    <tr>\n",
       "      <th>1</th>\n",
       "      <td>None of these</td>\n",
       "      <td>NaN</td>\n",
       "      <td>NaN</td>\n",
       "      <td>NaN</td>\n",
       "      <td>NaN</td>\n",
       "      <td>NaN</td>\n",
       "      <td>NaN</td>\n",
       "      <td>NaN</td>\n",
       "      <td>NaN</td>\n",
       "      <td>NaN</td>\n",
       "      <td>...</td>\n",
       "      <td>NaN</td>\n",
       "      <td>NaN</td>\n",
       "      <td>NaN</td>\n",
       "      <td>NaN</td>\n",
       "      <td>NaN</td>\n",
       "      <td>NaN</td>\n",
       "      <td>NaN</td>\n",
       "      <td>NaN</td>\n",
       "      <td>NaN</td>\n",
       "      <td>NaN</td>\n",
       "    </tr>\n",
       "    <tr>\n",
       "      <th>2</th>\n",
       "      <td>I am a developer by profession</td>\n",
       "      <td>Employed, full-time</td>\n",
       "      <td>Fully remote</td>\n",
       "      <td>Hobby;Contribute to open-source projects</td>\n",
       "      <td>NaN</td>\n",
       "      <td>NaN</td>\n",
       "      <td>NaN</td>\n",
       "      <td>NaN</td>\n",
       "      <td>NaN</td>\n",
       "      <td>NaN</td>\n",
       "      <td>...</td>\n",
       "      <td>NaN</td>\n",
       "      <td>NaN</td>\n",
       "      <td>NaN</td>\n",
       "      <td>NaN</td>\n",
       "      <td>NaN</td>\n",
       "      <td>NaN</td>\n",
       "      <td>NaN</td>\n",
       "      <td>Too long</td>\n",
       "      <td>Difficult</td>\n",
       "      <td>NaN</td>\n",
       "    </tr>\n",
       "    <tr>\n",
       "      <th>3</th>\n",
       "      <td>I am not primarily a developer, but I write co...</td>\n",
       "      <td>Employed, full-time</td>\n",
       "      <td>Hybrid (some remote, some in-person)</td>\n",
       "      <td>Hobby</td>\n",
       "      <td>Master’s degree (M.A., M.S., M.Eng., MBA, etc.)</td>\n",
       "      <td>Books / Physical media;Friend or family member...</td>\n",
       "      <td>Technical documentation;Blogs;Programming Game...</td>\n",
       "      <td>NaN</td>\n",
       "      <td>14</td>\n",
       "      <td>5</td>\n",
       "      <td>...</td>\n",
       "      <td>NaN</td>\n",
       "      <td>NaN</td>\n",
       "      <td>NaN</td>\n",
       "      <td>NaN</td>\n",
       "      <td>NaN</td>\n",
       "      <td>NaN</td>\n",
       "      <td>NaN</td>\n",
       "      <td>Appropriate in length</td>\n",
       "      <td>Neither easy nor difficult</td>\n",
       "      <td>40205.0</td>\n",
       "    </tr>\n",
       "    <tr>\n",
       "      <th>4</th>\n",
       "      <td>I am a developer by profession</td>\n",
       "      <td>Employed, full-time</td>\n",
       "      <td>Fully remote</td>\n",
       "      <td>I don’t code outside of work</td>\n",
       "      <td>Bachelor’s degree (B.A., B.S., B.Eng., etc.)</td>\n",
       "      <td>Books / Physical media;School (i.e., Universit...</td>\n",
       "      <td>NaN</td>\n",
       "      <td>NaN</td>\n",
       "      <td>20</td>\n",
       "      <td>17</td>\n",
       "      <td>...</td>\n",
       "      <td>NaN</td>\n",
       "      <td>NaN</td>\n",
       "      <td>NaN</td>\n",
       "      <td>NaN</td>\n",
       "      <td>NaN</td>\n",
       "      <td>NaN</td>\n",
       "      <td>NaN</td>\n",
       "      <td>Appropriate in length</td>\n",
       "      <td>Easy</td>\n",
       "      <td>215232.0</td>\n",
       "    </tr>\n",
       "    <tr>\n",
       "      <th>5</th>\n",
       "      <td>I am a developer by profession</td>\n",
       "      <td>Employed, full-time</td>\n",
       "      <td>Hybrid (some remote, some in-person)</td>\n",
       "      <td>Hobby</td>\n",
       "      <td>Bachelor’s degree (B.A., B.S., B.Eng., etc.)</td>\n",
       "      <td>Other online resources (e.g., videos, blogs, f...</td>\n",
       "      <td>Technical documentation;Blogs;Stack Overflow;O...</td>\n",
       "      <td>NaN</td>\n",
       "      <td>8</td>\n",
       "      <td>3</td>\n",
       "      <td>...</td>\n",
       "      <td>NaN</td>\n",
       "      <td>NaN</td>\n",
       "      <td>NaN</td>\n",
       "      <td>NaN</td>\n",
       "      <td>NaN</td>\n",
       "      <td>NaN</td>\n",
       "      <td>NaN</td>\n",
       "      <td>Too long</td>\n",
       "      <td>Easy</td>\n",
       "      <td>NaN</td>\n",
       "    </tr>\n",
       "  </tbody>\n",
       "</table>\n",
       "<p>5 rows × 78 columns</p>\n",
       "</div>"
      ],
      "text/plain": [
       "                                                   MainBranch  \\\n",
       "ResponseId                                                      \n",
       "1                                               None of these   \n",
       "2                              I am a developer by profession   \n",
       "3           I am not primarily a developer, but I write co...   \n",
       "4                              I am a developer by profession   \n",
       "5                              I am a developer by profession   \n",
       "\n",
       "                     Employment                            RemoteWork  \\\n",
       "ResponseId                                                              \n",
       "1                           NaN                                   NaN   \n",
       "2           Employed, full-time                          Fully remote   \n",
       "3           Employed, full-time  Hybrid (some remote, some in-person)   \n",
       "4           Employed, full-time                          Fully remote   \n",
       "5           Employed, full-time  Hybrid (some remote, some in-person)   \n",
       "\n",
       "                                    CodingActivities  \\\n",
       "ResponseId                                             \n",
       "1                                                NaN   \n",
       "2           Hobby;Contribute to open-source projects   \n",
       "3                                              Hobby   \n",
       "4                       I don’t code outside of work   \n",
       "5                                              Hobby   \n",
       "\n",
       "                                                    EdLevel  \\\n",
       "ResponseId                                                    \n",
       "1                                                       NaN   \n",
       "2                                                       NaN   \n",
       "3           Master’s degree (M.A., M.S., M.Eng., MBA, etc.)   \n",
       "4              Bachelor’s degree (B.A., B.S., B.Eng., etc.)   \n",
       "5              Bachelor’s degree (B.A., B.S., B.Eng., etc.)   \n",
       "\n",
       "                                                    LearnCode  \\\n",
       "ResponseId                                                      \n",
       "1                                                         NaN   \n",
       "2                                                         NaN   \n",
       "3           Books / Physical media;Friend or family member...   \n",
       "4           Books / Physical media;School (i.e., Universit...   \n",
       "5           Other online resources (e.g., videos, blogs, f...   \n",
       "\n",
       "                                              LearnCodeOnline  \\\n",
       "ResponseId                                                      \n",
       "1                                                         NaN   \n",
       "2                                                         NaN   \n",
       "3           Technical documentation;Blogs;Programming Game...   \n",
       "4                                                         NaN   \n",
       "5           Technical documentation;Blogs;Stack Overflow;O...   \n",
       "\n",
       "           LearnCodeCoursesCert YearsCode YearsCodePro  ... TimeSearching  \\\n",
       "ResponseId                                              ...                 \n",
       "1                           NaN       NaN          NaN  ...           NaN   \n",
       "2                           NaN       NaN          NaN  ...           NaN   \n",
       "3                           NaN        14            5  ...           NaN   \n",
       "4                           NaN        20           17  ...           NaN   \n",
       "5                           NaN         8            3  ...           NaN   \n",
       "\n",
       "           TimeAnswering Onboarding ProfessionalTech TrueFalse_1 TrueFalse_2  \\\n",
       "ResponseId                                                                     \n",
       "1                    NaN        NaN              NaN         NaN         NaN   \n",
       "2                    NaN        NaN              NaN         NaN         NaN   \n",
       "3                    NaN        NaN              NaN         NaN         NaN   \n",
       "4                    NaN        NaN              NaN         NaN         NaN   \n",
       "5                    NaN        NaN              NaN         NaN         NaN   \n",
       "\n",
       "            TrueFalse_3           SurveyLength                  SurveyEase  \\\n",
       "ResponseId                                                                   \n",
       "1                   NaN                    NaN                         NaN   \n",
       "2                   NaN               Too long                   Difficult   \n",
       "3                   NaN  Appropriate in length  Neither easy nor difficult   \n",
       "4                   NaN  Appropriate in length                        Easy   \n",
       "5                   NaN               Too long                        Easy   \n",
       "\n",
       "           ConvertedCompYearly  \n",
       "ResponseId                      \n",
       "1                          NaN  \n",
       "2                          NaN  \n",
       "3                      40205.0  \n",
       "4                     215232.0  \n",
       "5                          NaN  \n",
       "\n",
       "[5 rows x 78 columns]"
      ]
     },
     "execution_count": 3,
     "metadata": {},
     "output_type": "execute_result"
    }
   ],
   "source": [
    "survey_df.head()"
   ]
  },
  {
   "cell_type": "code",
   "execution_count": 4,
   "id": "dc37659b",
   "metadata": {},
   "outputs": [
    {
     "data": {
      "text/plain": [
       "Index(['MainBranch', 'Employment', 'RemoteWork', 'CodingActivities', 'EdLevel',\n",
       "       'LearnCode', 'LearnCodeOnline', 'LearnCodeCoursesCert', 'YearsCode',\n",
       "       'YearsCodePro', 'DevType', 'OrgSize', 'PurchaseInfluence', 'BuyNewTool',\n",
       "       'Country', 'Currency', 'CompTotal', 'CompFreq',\n",
       "       'LanguageHaveWorkedWith', 'LanguageWantToWorkWith',\n",
       "       'DatabaseHaveWorkedWith', 'DatabaseWantToWorkWith',\n",
       "       'PlatformHaveWorkedWith', 'PlatformWantToWorkWith',\n",
       "       'WebframeHaveWorkedWith', 'WebframeWantToWorkWith',\n",
       "       'MiscTechHaveWorkedWith', 'MiscTechWantToWorkWith',\n",
       "       'ToolsTechHaveWorkedWith', 'ToolsTechWantToWorkWith',\n",
       "       'NEWCollabToolsHaveWorkedWith', 'NEWCollabToolsWantToWorkWith',\n",
       "       'OpSysProfessional use', 'OpSysPersonal use', 'VersionControlSystem',\n",
       "       'VCInteraction', 'VCHostingPersonal use', 'VCHostingProfessional use',\n",
       "       'OfficeStackAsyncHaveWorkedWith', 'OfficeStackAsyncWantToWorkWith',\n",
       "       'OfficeStackSyncHaveWorkedWith', 'OfficeStackSyncWantToWorkWith',\n",
       "       'Blockchain', 'NEWSOSites', 'SOVisitFreq', 'SOAccount', 'SOPartFreq',\n",
       "       'SOComm', 'Age', 'Gender', 'Trans', 'Sexuality', 'Ethnicity',\n",
       "       'Accessibility', 'MentalHealth', 'TBranch', 'ICorPM', 'WorkExp',\n",
       "       'Knowledge_1', 'Knowledge_2', 'Knowledge_3', 'Knowledge_4',\n",
       "       'Knowledge_5', 'Knowledge_6', 'Knowledge_7', 'Frequency_1',\n",
       "       'Frequency_2', 'Frequency_3', 'TimeSearching', 'TimeAnswering',\n",
       "       'Onboarding', 'ProfessionalTech', 'TrueFalse_1', 'TrueFalse_2',\n",
       "       'TrueFalse_3', 'SurveyLength', 'SurveyEase', 'ConvertedCompYearly'],\n",
       "      dtype='object')"
      ]
     },
     "execution_count": 4,
     "metadata": {},
     "output_type": "execute_result"
    }
   ],
   "source": [
    "#this shows the list of columns which represent the shortcodes for questions asked\n",
    "survey_df.columns"
   ]
  },
  {
   "cell_type": "markdown",
   "id": "2996005a",
   "metadata": {},
   "source": [
    "##### Since the shortcodes for questions have been used as column names, you can refer to the schema file to see the full text of each question. It is loaded it as Pandas Series with `qname` as the index and the  `question` as the value."
   ]
  },
  {
   "cell_type": "code",
   "execution_count": 5,
   "id": "2882c9a7",
   "metadata": {},
   "outputs": [],
   "source": [
    "schema_name = 'survey_results_schema.csv'\n",
    "schema = pd.read_csv(schema_name, index_col='qname').question"
   ]
  },
  {
   "cell_type": "code",
   "execution_count": 6,
   "id": "cf1d7a48",
   "metadata": {},
   "outputs": [
    {
     "data": {
      "text/plain": [
       "qname\n",
       "MainBranch          Which of the following options best describes ...\n",
       "Employment          Which of the following best describes your cur...\n",
       "RemoteWork          Which best describes your current work situation?\n",
       "CodingActivities    Which of the following best describes the code...\n",
       "EdLevel             Which of the following best describes the high...\n",
       "Name: question, dtype: object"
      ]
     },
     "execution_count": 6,
     "metadata": {},
     "output_type": "execute_result"
    }
   ],
   "source": [
    "schema.head()"
   ]
  },
  {
   "cell_type": "markdown",
   "id": "a29880f1",
   "metadata": {},
   "source": [
    "##### We can now use `schema_df` to retrieve the full question text for any column in `survey_df`."
   ]
  },
  {
   "cell_type": "code",
   "execution_count": 7,
   "id": "80f23657",
   "metadata": {},
   "outputs": [
    {
     "data": {
      "text/plain": [
       "'Which of the following describes your current job? Please select all that apply.'"
      ]
     },
     "execution_count": 7,
     "metadata": {},
     "output_type": "execute_result"
    }
   ],
   "source": [
    "schema['DevType']"
   ]
  },
  {
   "cell_type": "markdown",
   "id": "c48b419a",
   "metadata": {},
   "source": [
    "## 3. Data Preparation and Cleaning\n",
    "Though this survey responses contains a wealth of information, the analyses was limited to the following:\n",
    "\n",
    "1. Demographics of the survey respondents\n",
    "2. Programming skills, experience, and preferences\n",
    "3. Employment-related information.\n",
    "4. Stack Overflow Usage + Community\n",
    "\n",
    "##### I selected only a subset of columns relavant for my analysis."
   ]
  },
  {
   "cell_type": "code",
   "execution_count": 8,
   "id": "140b09d5",
   "metadata": {},
   "outputs": [],
   "source": [
    "selected_columns = [\n",
    "    #Demographics\n",
    "    'Country',\n",
    "    'Age',\n",
    "    'Gender',\n",
    "    'EdLevel',\n",
    "    'RemoteWork',\n",
    "    \n",
    "    #Programming Experience\n",
    "    'DevType',\n",
    "    'LearnCodeCoursesCert', \n",
    "    'LanguageHaveWorkedWith',\n",
    "    'LanguageWantToWorkWith', \n",
    "    \n",
    "    #Employment\n",
    "    'Employment',\n",
    "    'WorkExp',\n",
    "    'CompTotal',\n",
    "    'CompFreq',\n",
    "    \n",
    "    #Stack Overflow Usage + Community\n",
    "    'NEWSOSites',\n",
    "    'SOVisitFreq',\n",
    "    'SOAccount',\n",
    "    'SOPartFreq',\n",
    "    'SOComm'    \n",
    "]"
   ]
  },
  {
   "cell_type": "code",
   "execution_count": 9,
   "id": "05b1a77f",
   "metadata": {},
   "outputs": [
    {
     "data": {
      "text/plain": [
       "18"
      ]
     },
     "execution_count": 9,
     "metadata": {},
     "output_type": "execute_result"
    }
   ],
   "source": [
    "len(selected_columns)"
   ]
  },
  {
   "cell_type": "code",
   "execution_count": 10,
   "id": "38610e53",
   "metadata": {},
   "outputs": [],
   "source": [
    "survey_df = survey_df[selected_columns]"
   ]
  },
  {
   "cell_type": "markdown",
   "id": "744fea7b",
   "metadata": {},
   "source": [
    "##### Let's view some basic information about the data frame."
   ]
  },
  {
   "cell_type": "code",
   "execution_count": 11,
   "id": "ac0e825e",
   "metadata": {},
   "outputs": [
    {
     "data": {
      "text/plain": [
       "(73268, 18)"
      ]
     },
     "execution_count": 11,
     "metadata": {},
     "output_type": "execute_result"
    }
   ],
   "source": [
    "survey_df.shape"
   ]
  },
  {
   "cell_type": "code",
   "execution_count": 12,
   "id": "78666bd1",
   "metadata": {},
   "outputs": [
    {
     "name": "stdout",
     "output_type": "stream",
     "text": [
      "<class 'pandas.core.frame.DataFrame'>\n",
      "Int64Index: 73268 entries, 1 to 73268\n",
      "Data columns (total 18 columns):\n",
      " #   Column                  Non-Null Count  Dtype  \n",
      "---  ------                  --------------  -----  \n",
      " 0   Country                 71771 non-null  object \n",
      " 1   Age                     70946 non-null  object \n",
      " 2   Gender                  70853 non-null  object \n",
      " 3   EdLevel                 71571 non-null  object \n",
      " 4   RemoteWork              58958 non-null  object \n",
      " 5   DevType                 61302 non-null  object \n",
      " 6   LearnCodeCoursesCert    29389 non-null  object \n",
      " 7   LanguageHaveWorkedWith  70975 non-null  object \n",
      " 8   LanguageWantToWorkWith  67027 non-null  object \n",
      " 9   Employment              71709 non-null  object \n",
      " 10  WorkExp                 36769 non-null  float64\n",
      " 11  CompTotal               38422 non-null  float64\n",
      " 12  CompFreq                44425 non-null  object \n",
      " 13  NEWSOSites              71365 non-null  object \n",
      " 14  SOVisitFreq             70961 non-null  object \n",
      " 15  SOAccount               71572 non-null  object \n",
      " 16  SOPartFreq              58229 non-null  object \n",
      " 17  SOComm                  71408 non-null  object \n",
      "dtypes: float64(2), object(16)\n",
      "memory usage: 10.6+ MB\n"
     ]
    }
   ],
   "source": [
    "survey_df.info()"
   ]
  },
  {
   "cell_type": "code",
   "execution_count": 13,
   "id": "ca2cdb87",
   "metadata": {},
   "outputs": [
    {
     "data": {
      "text/html": [
       "<div>\n",
       "<style scoped>\n",
       "    .dataframe tbody tr th:only-of-type {\n",
       "        vertical-align: middle;\n",
       "    }\n",
       "\n",
       "    .dataframe tbody tr th {\n",
       "        vertical-align: top;\n",
       "    }\n",
       "\n",
       "    .dataframe thead th {\n",
       "        text-align: right;\n",
       "    }\n",
       "</style>\n",
       "<table border=\"1\" class=\"dataframe\">\n",
       "  <thead>\n",
       "    <tr style=\"text-align: right;\">\n",
       "      <th></th>\n",
       "      <th>WorkExp</th>\n",
       "      <th>CompTotal</th>\n",
       "    </tr>\n",
       "  </thead>\n",
       "  <tbody>\n",
       "    <tr>\n",
       "      <th>count</th>\n",
       "      <td>36769.000000</td>\n",
       "      <td>3.842200e+04</td>\n",
       "    </tr>\n",
       "    <tr>\n",
       "      <th>mean</th>\n",
       "      <td>10.242378</td>\n",
       "      <td>2.342434e+52</td>\n",
       "    </tr>\n",
       "    <tr>\n",
       "      <th>std</th>\n",
       "      <td>8.706850</td>\n",
       "      <td>4.591478e+54</td>\n",
       "    </tr>\n",
       "    <tr>\n",
       "      <th>min</th>\n",
       "      <td>0.000000</td>\n",
       "      <td>0.000000e+00</td>\n",
       "    </tr>\n",
       "    <tr>\n",
       "      <th>25%</th>\n",
       "      <td>4.000000</td>\n",
       "      <td>3.000000e+04</td>\n",
       "    </tr>\n",
       "    <tr>\n",
       "      <th>50%</th>\n",
       "      <td>8.000000</td>\n",
       "      <td>7.750000e+04</td>\n",
       "    </tr>\n",
       "    <tr>\n",
       "      <th>75%</th>\n",
       "      <td>15.000000</td>\n",
       "      <td>1.540000e+05</td>\n",
       "    </tr>\n",
       "    <tr>\n",
       "      <th>max</th>\n",
       "      <td>50.000000</td>\n",
       "      <td>9.000000e+56</td>\n",
       "    </tr>\n",
       "  </tbody>\n",
       "</table>\n",
       "</div>"
      ],
      "text/plain": [
       "            WorkExp     CompTotal\n",
       "count  36769.000000  3.842200e+04\n",
       "mean      10.242378  2.342434e+52\n",
       "std        8.706850  4.591478e+54\n",
       "min        0.000000  0.000000e+00\n",
       "25%        4.000000  3.000000e+04\n",
       "50%        8.000000  7.750000e+04\n",
       "75%       15.000000  1.540000e+05\n",
       "max       50.000000  9.000000e+56"
      ]
     },
     "execution_count": 13,
     "metadata": {},
     "output_type": "execute_result"
    }
   ],
   "source": [
    "survey_df.describe()"
   ]
  },
  {
   "cell_type": "markdown",
   "id": "1fe2e4f7",
   "metadata": {},
   "source": [
    "##### The gender column also allows for picking multiple options. I will replace values containing more than one option with `NaN` to simplify our analysis, then replace them with others."
   ]
  },
  {
   "cell_type": "code",
   "execution_count": 14,
   "id": "8fb6f631",
   "metadata": {},
   "outputs": [
    {
     "data": {
      "text/plain": [
       "Man                                                                                   64607\n",
       "Woman                                                                                  3399\n",
       "Prefer not to say                                                                      1172\n",
       "Non-binary, genderqueer, or gender non-conforming                                       704\n",
       "Or, in your own words:                                                                  279\n",
       "Man;Non-binary, genderqueer, or gender non-conforming                                   235\n",
       "Man;Or, in your own words:                                                              171\n",
       "Woman;Non-binary, genderqueer, or gender non-conforming                                 160\n",
       "Man;Woman;Non-binary, genderqueer, or gender non-conforming                              31\n",
       "Man;Woman                                                                                24\n",
       "Man;Or, in your own words:;Woman;Non-binary, genderqueer, or gender non-conforming       18\n",
       "Or, in your own words:;Woman;Non-binary, genderqueer, or gender non-conforming           15\n",
       "Or, in your own words:;Non-binary, genderqueer, or gender non-conforming                 14\n",
       "Or, in your own words:;Woman                                                             13\n",
       "Man;Or, in your own words:;Non-binary, genderqueer, or gender non-conforming              9\n",
       "Man;Or, in your own words:;Woman                                                          2\n",
       "Name: Gender, dtype: int64"
      ]
     },
     "execution_count": 14,
     "metadata": {},
     "output_type": "execute_result"
    }
   ],
   "source": [
    "survey_df['Gender'].value_counts()"
   ]
  },
  {
   "cell_type": "code",
   "execution_count": 15,
   "id": "47479480",
   "metadata": {},
   "outputs": [
    {
     "data": {
      "text/plain": [
       "Man                  64607\n",
       "Woman                 3399\n",
       "other                 3386\n",
       "Prefer not to say     1172\n",
       "Non-binary             704\n",
       "Name: Gender, dtype: int64"
      ]
     },
     "execution_count": 15,
     "metadata": {},
     "output_type": "execute_result"
    }
   ],
   "source": [
    "survey_df.where(~(survey_df.Gender.str.contains(';', na=False)), np.nan, inplace=True)\n",
    "survey_df['Gender'] = survey_df['Gender'].replace('Or, in your own words:', 'other')\n",
    "survey_df['Gender'] = survey_df['Gender'].replace('Non-binary, genderqueer, or gender non-conforming', 'Non-binary')\n",
    "survey_df.Gender = survey_df.Gender .fillna('other')\n",
    "survey_df['Gender'].value_counts()"
   ]
  },
  {
   "cell_type": "markdown",
   "id": "b646d735",
   "metadata": {},
   "source": [
    "##### I created a helper function that converts a column with lists of values or multiple options,  (such as `Employmenet.DevType`),\" into a data frame with a column for each potential choice."
   ]
  },
  {
   "cell_type": "code",
   "execution_count": 16,
   "id": "25574231",
   "metadata": {},
   "outputs": [],
   "source": [
    "def split_multicolumn(col_series):\n",
    "    result_df = col_series.to_frame()\n",
    "    options = []\n",
    "    # Iterate over the column\n",
    "    for idx, value  in col_series[col_series.notnull()].iteritems():\n",
    "        # Break each value into list of options\n",
    "        for option in value.split(';'):\n",
    "            # Add the option as a column to result\n",
    "            if not option in result_df.columns:\n",
    "                options.append(option)\n",
    "                result_df[option] = False\n",
    "            # Mark the value in the option column as True\n",
    "            result_df.at[idx, option] = True\n",
    "    return result_df[options]"
   ]
  },
  {
   "cell_type": "markdown",
   "id": "5ad911d1",
   "metadata": {},
   "source": [
    "##### The data is now cleaned and ready for analysis. Let's take a look at a sample of rows from the data frame."
   ]
  },
  {
   "cell_type": "code",
   "execution_count": 17,
   "id": "ffa2724b",
   "metadata": {},
   "outputs": [
    {
     "data": {
      "text/html": [
       "<div>\n",
       "<style scoped>\n",
       "    .dataframe tbody tr th:only-of-type {\n",
       "        vertical-align: middle;\n",
       "    }\n",
       "\n",
       "    .dataframe tbody tr th {\n",
       "        vertical-align: top;\n",
       "    }\n",
       "\n",
       "    .dataframe thead th {\n",
       "        text-align: right;\n",
       "    }\n",
       "</style>\n",
       "<table border=\"1\" class=\"dataframe\">\n",
       "  <thead>\n",
       "    <tr style=\"text-align: right;\">\n",
       "      <th></th>\n",
       "      <th>Country</th>\n",
       "      <th>Age</th>\n",
       "      <th>Gender</th>\n",
       "      <th>EdLevel</th>\n",
       "      <th>RemoteWork</th>\n",
       "      <th>DevType</th>\n",
       "      <th>LearnCodeCoursesCert</th>\n",
       "      <th>LanguageHaveWorkedWith</th>\n",
       "      <th>LanguageWantToWorkWith</th>\n",
       "      <th>Employment</th>\n",
       "      <th>WorkExp</th>\n",
       "      <th>CompTotal</th>\n",
       "      <th>CompFreq</th>\n",
       "      <th>NEWSOSites</th>\n",
       "      <th>SOVisitFreq</th>\n",
       "      <th>SOAccount</th>\n",
       "      <th>SOPartFreq</th>\n",
       "      <th>SOComm</th>\n",
       "    </tr>\n",
       "    <tr>\n",
       "      <th>ResponseId</th>\n",
       "      <th></th>\n",
       "      <th></th>\n",
       "      <th></th>\n",
       "      <th></th>\n",
       "      <th></th>\n",
       "      <th></th>\n",
       "      <th></th>\n",
       "      <th></th>\n",
       "      <th></th>\n",
       "      <th></th>\n",
       "      <th></th>\n",
       "      <th></th>\n",
       "      <th></th>\n",
       "      <th></th>\n",
       "      <th></th>\n",
       "      <th></th>\n",
       "      <th></th>\n",
       "      <th></th>\n",
       "    </tr>\n",
       "  </thead>\n",
       "  <tbody>\n",
       "    <tr>\n",
       "      <th>56311</th>\n",
       "      <td>Pakistan</td>\n",
       "      <td>18-24 years old</td>\n",
       "      <td>Man</td>\n",
       "      <td>Bachelor’s degree (B.A., B.S., B.Eng., etc.)</td>\n",
       "      <td>Hybrid (some remote, some in-person)</td>\n",
       "      <td>Developer, full-stack</td>\n",
       "      <td>NaN</td>\n",
       "      <td>C++;Go;HTML/CSS;Java;JavaScript;PHP;Python;Sol...</td>\n",
       "      <td>Dart;Go;HTML/CSS;Java;JavaScript;PHP;Python;Ru...</td>\n",
       "      <td>Employed, full-time</td>\n",
       "      <td>NaN</td>\n",
       "      <td>75000.0</td>\n",
       "      <td>Monthly</td>\n",
       "      <td>Stack Overflow</td>\n",
       "      <td>A few times per week</td>\n",
       "      <td>Yes</td>\n",
       "      <td>I have never participated in Q&amp;A on Stack Over...</td>\n",
       "      <td>No, not at all</td>\n",
       "    </tr>\n",
       "    <tr>\n",
       "      <th>44658</th>\n",
       "      <td>Australia</td>\n",
       "      <td>35-44 years old</td>\n",
       "      <td>Man</td>\n",
       "      <td>Bachelor’s degree (B.A., B.S., B.Eng., etc.)</td>\n",
       "      <td>Hybrid (some remote, some in-person)</td>\n",
       "      <td>Developer, back-end;Cloud infrastructure engin...</td>\n",
       "      <td>NaN</td>\n",
       "      <td>Bash/Shell;Java</td>\n",
       "      <td>Go;Python;TypeScript</td>\n",
       "      <td>Employed, full-time</td>\n",
       "      <td>NaN</td>\n",
       "      <td>NaN</td>\n",
       "      <td>Yearly</td>\n",
       "      <td>Stack Overflow;Stack Exchange</td>\n",
       "      <td>A few times per week</td>\n",
       "      <td>Yes</td>\n",
       "      <td>I have never participated in Q&amp;A on Stack Over...</td>\n",
       "      <td>No, not really</td>\n",
       "    </tr>\n",
       "    <tr>\n",
       "      <th>14708</th>\n",
       "      <td>Germany</td>\n",
       "      <td>Under 18 years old</td>\n",
       "      <td>Prefer not to say</td>\n",
       "      <td>Professional degree (JD, MD, etc.)</td>\n",
       "      <td>Full in-person</td>\n",
       "      <td>Developer, full-stack</td>\n",
       "      <td>Udemy</td>\n",
       "      <td>Bash/Shell;HTML/CSS;JavaScript;PHP;Rust</td>\n",
       "      <td>Bash/Shell;Elixir;Go;Haskell;HTML/CSS;JavaScri...</td>\n",
       "      <td>Employed, full-time</td>\n",
       "      <td>NaN</td>\n",
       "      <td>NaN</td>\n",
       "      <td>Monthly</td>\n",
       "      <td>Stack Overflow</td>\n",
       "      <td>A few times per month or weekly</td>\n",
       "      <td>No</td>\n",
       "      <td>NaN</td>\n",
       "      <td>Neutral</td>\n",
       "    </tr>\n",
       "    <tr>\n",
       "      <th>51492</th>\n",
       "      <td>El Salvador</td>\n",
       "      <td>25-34 years old</td>\n",
       "      <td>Man</td>\n",
       "      <td>Bachelor’s degree (B.A., B.S., B.Eng., etc.)</td>\n",
       "      <td>Fully remote</td>\n",
       "      <td>Developer, front-end;Developer, full-stack;Dev...</td>\n",
       "      <td>Udemy;Pluralsight;edX</td>\n",
       "      <td>C#;JavaScript;TypeScript</td>\n",
       "      <td>Dart;JavaScript;TypeScript</td>\n",
       "      <td>Employed, full-time;Independent contractor, fr...</td>\n",
       "      <td>7.0</td>\n",
       "      <td>5400.0</td>\n",
       "      <td>Monthly</td>\n",
       "      <td>Stack Overflow;Stack Exchange</td>\n",
       "      <td>A few times per month or weekly</td>\n",
       "      <td>Yes</td>\n",
       "      <td>I have never participated in Q&amp;A on Stack Over...</td>\n",
       "      <td>No, not really</td>\n",
       "    </tr>\n",
       "    <tr>\n",
       "      <th>61207</th>\n",
       "      <td>Finland</td>\n",
       "      <td>35-44 years old</td>\n",
       "      <td>Man</td>\n",
       "      <td>Master’s degree (M.A., M.S., M.Eng., MBA, etc.)</td>\n",
       "      <td>Hybrid (some remote, some in-person)</td>\n",
       "      <td>Developer, front-end;Developer, full-stack;Dev...</td>\n",
       "      <td>NaN</td>\n",
       "      <td>Bash/Shell;C#;HTML/CSS;Java;JavaScript;PHP;SQL...</td>\n",
       "      <td>Bash/Shell;C#;HTML/CSS;Java;JavaScript;PHP;SQL...</td>\n",
       "      <td>Employed, full-time</td>\n",
       "      <td>21.0</td>\n",
       "      <td>5900.0</td>\n",
       "      <td>Monthly</td>\n",
       "      <td>Stack Overflow;Stack Exchange</td>\n",
       "      <td>A few times per week</td>\n",
       "      <td>Yes</td>\n",
       "      <td>A few times per month or weekly</td>\n",
       "      <td>Yes, definitely</td>\n",
       "    </tr>\n",
       "  </tbody>\n",
       "</table>\n",
       "</div>"
      ],
      "text/plain": [
       "                Country                 Age             Gender  \\\n",
       "ResponseId                                                       \n",
       "56311          Pakistan     18-24 years old                Man   \n",
       "44658         Australia     35-44 years old                Man   \n",
       "14708           Germany  Under 18 years old  Prefer not to say   \n",
       "51492       El Salvador     25-34 years old                Man   \n",
       "61207           Finland     35-44 years old                Man   \n",
       "\n",
       "                                                    EdLevel  \\\n",
       "ResponseId                                                    \n",
       "56311          Bachelor’s degree (B.A., B.S., B.Eng., etc.)   \n",
       "44658          Bachelor’s degree (B.A., B.S., B.Eng., etc.)   \n",
       "14708                    Professional degree (JD, MD, etc.)   \n",
       "51492          Bachelor’s degree (B.A., B.S., B.Eng., etc.)   \n",
       "61207       Master’s degree (M.A., M.S., M.Eng., MBA, etc.)   \n",
       "\n",
       "                                      RemoteWork  \\\n",
       "ResponseId                                         \n",
       "56311       Hybrid (some remote, some in-person)   \n",
       "44658       Hybrid (some remote, some in-person)   \n",
       "14708                             Full in-person   \n",
       "51492                               Fully remote   \n",
       "61207       Hybrid (some remote, some in-person)   \n",
       "\n",
       "                                                      DevType  \\\n",
       "ResponseId                                                      \n",
       "56311                                   Developer, full-stack   \n",
       "44658       Developer, back-end;Cloud infrastructure engin...   \n",
       "14708                                   Developer, full-stack   \n",
       "51492       Developer, front-end;Developer, full-stack;Dev...   \n",
       "61207       Developer, front-end;Developer, full-stack;Dev...   \n",
       "\n",
       "             LearnCodeCoursesCert  \\\n",
       "ResponseId                          \n",
       "56311                         NaN   \n",
       "44658                         NaN   \n",
       "14708                       Udemy   \n",
       "51492       Udemy;Pluralsight;edX   \n",
       "61207                         NaN   \n",
       "\n",
       "                                       LanguageHaveWorkedWith  \\\n",
       "ResponseId                                                      \n",
       "56311       C++;Go;HTML/CSS;Java;JavaScript;PHP;Python;Sol...   \n",
       "44658                                         Bash/Shell;Java   \n",
       "14708                 Bash/Shell;HTML/CSS;JavaScript;PHP;Rust   \n",
       "51492                                C#;JavaScript;TypeScript   \n",
       "61207       Bash/Shell;C#;HTML/CSS;Java;JavaScript;PHP;SQL...   \n",
       "\n",
       "                                       LanguageWantToWorkWith  \\\n",
       "ResponseId                                                      \n",
       "56311       Dart;Go;HTML/CSS;Java;JavaScript;PHP;Python;Ru...   \n",
       "44658                                    Go;Python;TypeScript   \n",
       "14708       Bash/Shell;Elixir;Go;Haskell;HTML/CSS;JavaScri...   \n",
       "51492                              Dart;JavaScript;TypeScript   \n",
       "61207       Bash/Shell;C#;HTML/CSS;Java;JavaScript;PHP;SQL...   \n",
       "\n",
       "                                                   Employment  WorkExp  \\\n",
       "ResponseId                                                               \n",
       "56311                                     Employed, full-time      NaN   \n",
       "44658                                     Employed, full-time      NaN   \n",
       "14708                                     Employed, full-time      NaN   \n",
       "51492       Employed, full-time;Independent contractor, fr...      7.0   \n",
       "61207                                     Employed, full-time     21.0   \n",
       "\n",
       "            CompTotal CompFreq                     NEWSOSites  \\\n",
       "ResponseId                                                      \n",
       "56311         75000.0  Monthly                 Stack Overflow   \n",
       "44658             NaN   Yearly  Stack Overflow;Stack Exchange   \n",
       "14708             NaN  Monthly                 Stack Overflow   \n",
       "51492          5400.0  Monthly  Stack Overflow;Stack Exchange   \n",
       "61207          5900.0  Monthly  Stack Overflow;Stack Exchange   \n",
       "\n",
       "                                SOVisitFreq SOAccount  \\\n",
       "ResponseId                                              \n",
       "56311                  A few times per week       Yes   \n",
       "44658                  A few times per week       Yes   \n",
       "14708       A few times per month or weekly        No   \n",
       "51492       A few times per month or weekly       Yes   \n",
       "61207                  A few times per week       Yes   \n",
       "\n",
       "                                                   SOPartFreq           SOComm  \n",
       "ResponseId                                                                      \n",
       "56311       I have never participated in Q&A on Stack Over...   No, not at all  \n",
       "44658       I have never participated in Q&A on Stack Over...   No, not really  \n",
       "14708                                                     NaN          Neutral  \n",
       "51492       I have never participated in Q&A on Stack Over...   No, not really  \n",
       "61207                         A few times per month or weekly  Yes, definitely  "
      ]
     },
     "execution_count": 17,
     "metadata": {},
     "output_type": "execute_result"
    }
   ],
   "source": [
    "survey_df.sample(5)"
   ]
  },
  {
   "cell_type": "markdown",
   "id": "5202d5d8",
   "metadata": {},
   "source": [
    "## 4. Exploratory Analysis and Visualization\n",
    "\n",
    "It would be beneficial to comprehend the respondents' demographics, such as their country of origin, age, gender, level of education, and work status, before we start asking questions regarding the survey results. Investigating these factors is crucial to determining how representative the study is of the global programming community. A survey of this scale generally tends to have some [selection bias](https://en.wikipedia.org/wiki/Selection_bias).\n",
    "\n"
   ]
  },
  {
   "cell_type": "markdown",
   "id": "2fc7aadd",
   "metadata": {},
   "source": [
    "## Demographics\n",
    "### Country\n",
    "##### We'll examine the number of nations represented in the survey replies and display the top 10 nations by the volume of responses."
   ]
  },
  {
   "cell_type": "code",
   "execution_count": 18,
   "id": "412f2e73",
   "metadata": {},
   "outputs": [
    {
     "data": {
      "text/plain": [
       "'Where do you live?'"
      ]
     },
     "execution_count": 18,
     "metadata": {},
     "output_type": "execute_result"
    }
   ],
   "source": [
    "schema.Country"
   ]
  },
  {
   "cell_type": "markdown",
   "id": "c218d01e",
   "metadata": {},
   "source": [
    "##### Using the `value_counts` technique, we can determine which nations had the most replies."
   ]
  },
  {
   "cell_type": "code",
   "execution_count": 19,
   "id": "788910d0",
   "metadata": {},
   "outputs": [
    {
     "data": {
      "text/plain": [
       "United States of America                                13321\n",
       "India                                                    6618\n",
       "Germany                                                  5342\n",
       "United Kingdom of Great Britain and Northern Ireland     4132\n",
       "Canada                                                   2459\n",
       "France                                                   2306\n",
       "Brazil                                                   2088\n",
       "Poland                                                   1719\n",
       "Netherlands                                              1539\n",
       "Spain                                                    1511\n",
       "Name: Country, dtype: int64"
      ]
     },
     "execution_count": 19,
     "metadata": {},
     "output_type": "execute_result"
    }
   ],
   "source": [
    "top_10_countries = survey_df.Country.value_counts().head(10)\n",
    "top_10_countries"
   ]
  },
  {
   "cell_type": "code",
   "execution_count": 20,
   "id": "0d7ec1ab",
   "metadata": {},
   "outputs": [
    {
     "data": {
      "image/png": "[encoded data removed]",
      "text/plain": [
       "<Figure size 864x432 with 1 Axes>"
      ]
     },
     "metadata": {
      "needs_background": "light"
     },
     "output_type": "display_data"
    }
   ],
   "source": [
    "plt.figure(figsize=(12,6))\n",
    "plt.xticks(rotation= 'vertical')\n",
    "plt.title(schema.Country)\n",
    "sns.barplot(x=top_10_countries.index, y=top_10_countries, palette = 'Blues_r');"
   ]
  },
  {
   "cell_type": "markdown",
   "id": "381a21b6",
   "metadata": {},
   "source": [
    "### Age\n",
    "##### Another important aspect to consider is the age distribution of the respondents using a histogram. "
   ]
  },
  {
   "cell_type": "code",
   "execution_count": 21,
   "id": "06e5ab88",
   "metadata": {},
   "outputs": [
    {
     "data": {
      "text/plain": [
       "'What is your age?'"
      ]
     },
     "execution_count": 21,
     "metadata": {},
     "output_type": "execute_result"
    }
   ],
   "source": [
    "schema.Age"
   ]
  },
  {
   "cell_type": "code",
   "execution_count": 22,
   "id": "dd78255e",
   "metadata": {},
   "outputs": [
    {
     "data": {
      "text/plain": [
       "25-34 years old       27878\n",
       "18-24 years old       16455\n",
       "35-44 years old       13866\n",
       "45-54 years old        5250\n",
       "Under 18 years old     3775\n",
       "55-64 years old        1974\n",
       "65 years or older       547\n",
       "Prefer not to say       512\n",
       "Name: Age, dtype: int64"
      ]
     },
     "execution_count": 22,
     "metadata": {},
     "output_type": "execute_result"
    }
   ],
   "source": [
    "age_count = survey_df.Age.value_counts()\n",
    "age_count"
   ]
  },
  {
   "cell_type": "code",
   "execution_count": 23,
   "id": "676855c4",
   "metadata": {},
   "outputs": [
    {
     "data": {
      "image/png": "[encoded data removed]",
      "text/plain": [
       "<Figure size 720x360 with 1 Axes>"
      ]
     },
     "metadata": {
      "needs_background": "light"
     },
     "output_type": "display_data"
    }
   ],
   "source": [
    "age = survey_df.Age.value_counts() * 100 / survey_df.Gender.count()\n",
    "sns.barplot(x=age, y=age.index, palette = 'Blues_r')\n",
    "plt.title(schema.Age)\n",
    "plt.ylabel(None);\n",
    "plt.xlabel('Percentage (%)');"
   ]
  },
  {
   "cell_type": "markdown",
   "id": "c0c9e8dc",
   "metadata": {},
   "source": [
    "### Gender\n",
    "\n",
    "##### Let's have a look at the gender response distribution. We may anticipate a skewed distribution here given that women and non-binary genders are underrepresented in the programming community."
   ]
  },
  {
   "cell_type": "code",
   "execution_count": 24,
   "id": "ed01441c",
   "metadata": {},
   "outputs": [
    {
     "data": {
      "text/plain": [
       "'Which of the following describe you, if any? Please check all that apply.'"
      ]
     },
     "execution_count": 24,
     "metadata": {},
     "output_type": "execute_result"
    }
   ],
   "source": [
    "schema.Gender"
   ]
  },
  {
   "cell_type": "code",
   "execution_count": 25,
   "id": "b44bb90d",
   "metadata": {},
   "outputs": [
    {
     "data": {
      "text/plain": [
       "Man                  64607\n",
       "Woman                 3399\n",
       "other                 3386\n",
       "Prefer not to say     1172\n",
       "Non-binary             704\n",
       "Name: Gender, dtype: int64"
      ]
     },
     "execution_count": 25,
     "metadata": {},
     "output_type": "execute_result"
    }
   ],
   "source": [
    "gender_counts = survey_df.Gender.value_counts()\n",
    "gender_counts"
   ]
  },
  {
   "cell_type": "code",
   "execution_count": 26,
   "id": "0c8f851d",
   "metadata": {},
   "outputs": [
    {
     "data": {
      "image/png": "[encoded data removed]",
      "text/plain": [
       "<Figure size 720x360 with 1 Axes>"
      ]
     },
     "metadata": {
      "needs_background": "light"
     },
     "output_type": "display_data"
    }
   ],
   "source": [
    "gender = survey_df.Gender.value_counts() * 100 / survey_df.Gender.count()\n",
    "sns.barplot(x=gender, y=gender.index, palette = 'Blues_r')\n",
    "plt.title(schema.Gender)\n",
    "plt.ylabel(None);\n",
    "plt.xlabel('Percentage (%)');"
   ]
  },
  {
   "cell_type": "markdown",
   "id": "78e42999",
   "metadata": {},
   "source": [
    "### Education Level\n",
    "\n",
    "A formal education in computer science is frequently seen as being necessary in order to become a programmer. To learn programming, there are plenty free tools & lessons online, nevertheless. In order to better understand this, let's compare the respondents' educational backgrounds using a horizontal bar plot."
   ]
  },
  {
   "cell_type": "code",
   "execution_count": 27,
   "id": "b2a467aa",
   "metadata": {},
   "outputs": [
    {
     "data": {
      "text/plain": [
       "'Which of the following best describes the highest level of formal education that you’ve completed? *'"
      ]
     },
     "execution_count": 27,
     "metadata": {},
     "output_type": "execute_result"
    }
   ],
   "source": [
    "schema['EdLevel'] "
   ]
  },
  {
   "cell_type": "code",
   "execution_count": 28,
   "id": "81aba90a",
   "metadata": {},
   "outputs": [
    {
     "data": {
      "image/png": "[encoded data removed]",
      "text/plain": [
       "<Figure size 864x864 with 1 Axes>"
      ]
     },
     "metadata": {
      "needs_background": "light"
     },
     "output_type": "display_data"
    }
   ],
   "source": [
    "plt.figure(figsize=(12, 12))\n",
    "plt.xticks(rotation= 'vertical');\n",
    "plt.title(schema['EdLevel'])\n",
    "plt.ylabel(None)\n",
    "sns.countplot(y=survey_df.EdLevel, palette = 'Blues_r');"
   ]
  },
  {
   "cell_type": "markdown",
   "id": "a2b26653",
   "metadata": {},
   "source": [
    "##### A bachelor's or master's degree appears to be held by considerably over half of the respondents, indicating that most programmers have some college training. However, it's unclear from this graph alone whether they have a computer science degree or not."
   ]
  },
  {
   "cell_type": "markdown",
   "id": "f4b3a149",
   "metadata": {},
   "source": [
    "### Remote Work\n",
    "Remote work has grown in popularity with the advent of COVID 19 and may perhaps be the preferred choice for most programmers. Let's compare the respondents' working status (hybrid, totally in-person, entirely remote) using a horizontal bar plot to better comprehend the working environment for programmers."
   ]
  },
  {
   "cell_type": "code",
   "execution_count": 29,
   "id": "6f9970e3",
   "metadata": {},
   "outputs": [
    {
     "data": {
      "text/plain": [
       "'Which best describes your current work situation?'"
      ]
     },
     "execution_count": 29,
     "metadata": {},
     "output_type": "execute_result"
    }
   ],
   "source": [
    "schema.RemoteWork               "
   ]
  },
  {
   "cell_type": "code",
   "execution_count": 30,
   "id": "ffcf3189",
   "metadata": {},
   "outputs": [
    {
     "data": {
      "text/plain": [
       "Fully remote                            25100\n",
       "Hybrid (some remote, some in-person)    24815\n",
       "Full in-person                           8538\n",
       "Name: RemoteWork, dtype: int64"
      ]
     },
     "execution_count": 30,
     "metadata": {},
     "output_type": "execute_result"
    }
   ],
   "source": [
    "remoteWork_counts = survey_df.RemoteWork.value_counts()\n",
    "remoteWork_counts"
   ]
  },
  {
   "cell_type": "code",
   "execution_count": 31,
   "id": "d729b43f",
   "metadata": {},
   "outputs": [
    {
     "data": {
      "image/png": "[encoded data removed]",
      "text/plain": [
       "<Figure size 720x360 with 1 Axes>"
      ]
     },
     "metadata": {
      "needs_background": "light"
     },
     "output_type": "display_data"
    }
   ],
   "source": [
    "remote = survey_df.RemoteWork.value_counts() * 100 / survey_df.RemoteWork.count()\n",
    "sns.barplot(x=remote, y=remote.index, palette = 'Blues_r')\n",
    "plt.title(schema.RemoteWork)\n",
    "plt.ylabel(None);\n",
    "plt.xlabel('Percentage (%)');"
   ]
  },
  {
   "cell_type": "markdown",
   "id": "637b6e56",
   "metadata": {},
   "source": [
    "## Programming Abilities and Experience\n",
    "### Type of Developer"
   ]
  },
  {
   "cell_type": "code",
   "execution_count": 32,
   "id": "89a04a71",
   "metadata": {},
   "outputs": [
    {
     "data": {
      "text/plain": [
       "'Which of the following describes your current job? Please select all that apply.'"
      ]
     },
     "execution_count": 32,
     "metadata": {},
     "output_type": "execute_result"
    }
   ],
   "source": [
    "schema.DevType"
   ]
  },
  {
   "cell_type": "code",
   "execution_count": 33,
   "id": "4f159357",
   "metadata": {},
   "outputs": [
    {
     "data": {
      "text/html": [
       "<div>\n",
       "<style scoped>\n",
       "    .dataframe tbody tr th:only-of-type {\n",
       "        vertical-align: middle;\n",
       "    }\n",
       "\n",
       "    .dataframe tbody tr th {\n",
       "        vertical-align: top;\n",
       "    }\n",
       "\n",
       "    .dataframe thead th {\n",
       "        text-align: right;\n",
       "    }\n",
       "</style>\n",
       "<table border=\"1\" class=\"dataframe\">\n",
       "  <thead>\n",
       "    <tr style=\"text-align: right;\">\n",
       "      <th></th>\n",
       "      <th>Data scientist or machine learning specialist</th>\n",
       "      <th>Developer, front-end</th>\n",
       "      <th>Engineer, data</th>\n",
       "      <th>Engineer, site reliability</th>\n",
       "      <th>Developer, full-stack</th>\n",
       "      <th>Developer, back-end</th>\n",
       "      <th>Developer, desktop or enterprise applications</th>\n",
       "      <th>Developer, QA or test</th>\n",
       "      <th>Student</th>\n",
       "      <th>Developer, mobile</th>\n",
       "      <th>...</th>\n",
       "      <th>Cloud infrastructure engineer</th>\n",
       "      <th>Data or business analyst</th>\n",
       "      <th>Designer</th>\n",
       "      <th>Scientist</th>\n",
       "      <th>Product manager</th>\n",
       "      <th>Senior Executive (C-Suite, VP, etc.)</th>\n",
       "      <th>System administrator</th>\n",
       "      <th>Blockchain</th>\n",
       "      <th>Marketing or sales professional</th>\n",
       "      <th>Security professional</th>\n",
       "    </tr>\n",
       "    <tr>\n",
       "      <th>ResponseId</th>\n",
       "      <th></th>\n",
       "      <th></th>\n",
       "      <th></th>\n",
       "      <th></th>\n",
       "      <th></th>\n",
       "      <th></th>\n",
       "      <th></th>\n",
       "      <th></th>\n",
       "      <th></th>\n",
       "      <th></th>\n",
       "      <th></th>\n",
       "      <th></th>\n",
       "      <th></th>\n",
       "      <th></th>\n",
       "      <th></th>\n",
       "      <th></th>\n",
       "      <th></th>\n",
       "      <th></th>\n",
       "      <th></th>\n",
       "      <th></th>\n",
       "      <th></th>\n",
       "    </tr>\n",
       "  </thead>\n",
       "  <tbody>\n",
       "    <tr>\n",
       "      <th>1</th>\n",
       "      <td>False</td>\n",
       "      <td>False</td>\n",
       "      <td>False</td>\n",
       "      <td>False</td>\n",
       "      <td>False</td>\n",
       "      <td>False</td>\n",
       "      <td>False</td>\n",
       "      <td>False</td>\n",
       "      <td>False</td>\n",
       "      <td>False</td>\n",
       "      <td>...</td>\n",
       "      <td>False</td>\n",
       "      <td>False</td>\n",
       "      <td>False</td>\n",
       "      <td>False</td>\n",
       "      <td>False</td>\n",
       "      <td>False</td>\n",
       "      <td>False</td>\n",
       "      <td>False</td>\n",
       "      <td>False</td>\n",
       "      <td>False</td>\n",
       "    </tr>\n",
       "    <tr>\n",
       "      <th>2</th>\n",
       "      <td>False</td>\n",
       "      <td>False</td>\n",
       "      <td>False</td>\n",
       "      <td>False</td>\n",
       "      <td>False</td>\n",
       "      <td>False</td>\n",
       "      <td>False</td>\n",
       "      <td>False</td>\n",
       "      <td>False</td>\n",
       "      <td>False</td>\n",
       "      <td>...</td>\n",
       "      <td>False</td>\n",
       "      <td>False</td>\n",
       "      <td>False</td>\n",
       "      <td>False</td>\n",
       "      <td>False</td>\n",
       "      <td>False</td>\n",
       "      <td>False</td>\n",
       "      <td>False</td>\n",
       "      <td>False</td>\n",
       "      <td>False</td>\n",
       "    </tr>\n",
       "    <tr>\n",
       "      <th>3</th>\n",
       "      <td>True</td>\n",
       "      <td>True</td>\n",
       "      <td>True</td>\n",
       "      <td>True</td>\n",
       "      <td>False</td>\n",
       "      <td>False</td>\n",
       "      <td>False</td>\n",
       "      <td>False</td>\n",
       "      <td>False</td>\n",
       "      <td>False</td>\n",
       "      <td>...</td>\n",
       "      <td>False</td>\n",
       "      <td>False</td>\n",
       "      <td>False</td>\n",
       "      <td>False</td>\n",
       "      <td>False</td>\n",
       "      <td>False</td>\n",
       "      <td>False</td>\n",
       "      <td>False</td>\n",
       "      <td>False</td>\n",
       "      <td>False</td>\n",
       "    </tr>\n",
       "    <tr>\n",
       "      <th>4</th>\n",
       "      <td>False</td>\n",
       "      <td>False</td>\n",
       "      <td>False</td>\n",
       "      <td>False</td>\n",
       "      <td>True</td>\n",
       "      <td>False</td>\n",
       "      <td>False</td>\n",
       "      <td>False</td>\n",
       "      <td>False</td>\n",
       "      <td>False</td>\n",
       "      <td>...</td>\n",
       "      <td>False</td>\n",
       "      <td>False</td>\n",
       "      <td>False</td>\n",
       "      <td>False</td>\n",
       "      <td>False</td>\n",
       "      <td>False</td>\n",
       "      <td>False</td>\n",
       "      <td>False</td>\n",
       "      <td>False</td>\n",
       "      <td>False</td>\n",
       "    </tr>\n",
       "    <tr>\n",
       "      <th>5</th>\n",
       "      <td>False</td>\n",
       "      <td>True</td>\n",
       "      <td>False</td>\n",
       "      <td>False</td>\n",
       "      <td>True</td>\n",
       "      <td>True</td>\n",
       "      <td>True</td>\n",
       "      <td>True</td>\n",
       "      <td>False</td>\n",
       "      <td>False</td>\n",
       "      <td>...</td>\n",
       "      <td>False</td>\n",
       "      <td>False</td>\n",
       "      <td>False</td>\n",
       "      <td>False</td>\n",
       "      <td>False</td>\n",
       "      <td>False</td>\n",
       "      <td>False</td>\n",
       "      <td>False</td>\n",
       "      <td>False</td>\n",
       "      <td>False</td>\n",
       "    </tr>\n",
       "  </tbody>\n",
       "</table>\n",
       "<p>5 rows × 29 columns</p>\n",
       "</div>"
      ],
      "text/plain": [
       "            Data scientist or machine learning specialist  \\\n",
       "ResponseId                                                  \n",
       "1                                                   False   \n",
       "2                                                   False   \n",
       "3                                                    True   \n",
       "4                                                   False   \n",
       "5                                                   False   \n",
       "\n",
       "            Developer, front-end  Engineer, data  Engineer, site reliability  \\\n",
       "ResponseId                                                                     \n",
       "1                          False           False                       False   \n",
       "2                          False           False                       False   \n",
       "3                           True            True                        True   \n",
       "4                          False           False                       False   \n",
       "5                           True           False                       False   \n",
       "\n",
       "            Developer, full-stack  Developer, back-end  \\\n",
       "ResponseId                                               \n",
       "1                           False                False   \n",
       "2                           False                False   \n",
       "3                           False                False   \n",
       "4                            True                False   \n",
       "5                            True                 True   \n",
       "\n",
       "            Developer, desktop or enterprise applications  \\\n",
       "ResponseId                                                  \n",
       "1                                                   False   \n",
       "2                                                   False   \n",
       "3                                                   False   \n",
       "4                                                   False   \n",
       "5                                                    True   \n",
       "\n",
       "            Developer, QA or test  Student  Developer, mobile  ...  \\\n",
       "ResponseId                                                     ...   \n",
       "1                           False    False              False  ...   \n",
       "2                           False    False              False  ...   \n",
       "3                           False    False              False  ...   \n",
       "4                           False    False              False  ...   \n",
       "5                            True    False              False  ...   \n",
       "\n",
       "            Cloud infrastructure engineer  Data or business analyst  Designer  \\\n",
       "ResponseId                                                                      \n",
       "1                                   False                     False     False   \n",
       "2                                   False                     False     False   \n",
       "3                                   False                     False     False   \n",
       "4                                   False                     False     False   \n",
       "5                                   False                     False     False   \n",
       "\n",
       "            Scientist  Product manager  Senior Executive (C-Suite, VP, etc.)  \\\n",
       "ResponseId                                                                     \n",
       "1               False            False                                 False   \n",
       "2               False            False                                 False   \n",
       "3               False            False                                 False   \n",
       "4               False            False                                 False   \n",
       "5               False            False                                 False   \n",
       "\n",
       "            System administrator  Blockchain  Marketing or sales professional  \\\n",
       "ResponseId                                                                      \n",
       "1                          False       False                            False   \n",
       "2                          False       False                            False   \n",
       "3                          False       False                            False   \n",
       "4                          False       False                            False   \n",
       "5                          False       False                            False   \n",
       "\n",
       "            Security professional  \n",
       "ResponseId                         \n",
       "1                           False  \n",
       "2                           False  \n",
       "3                           False  \n",
       "4                           False  \n",
       "5                           False  \n",
       "\n",
       "[5 rows x 29 columns]"
      ]
     },
     "execution_count": 33,
     "metadata": {},
     "output_type": "execute_result"
    }
   ],
   "source": [
    "devtype_df = split_multicolumn(survey_df.DevType)\n",
    "devtype_df.head()"
   ]
  },
  {
   "cell_type": "code",
   "execution_count": 34,
   "id": "fbb89cd2",
   "metadata": {},
   "outputs": [
    {
     "data": {
      "text/plain": [
       "Developer, full-stack                            28433\n",
       "Developer, back-end                              26369\n",
       "Developer, front-end                             15739\n",
       "Developer, desktop or enterprise applications     9451\n",
       "Developer, mobile                                 7566\n",
       "DevOps specialist                                 6093\n",
       "Student                                           5503\n",
       "Cloud infrastructure engineer                     5215\n",
       "Database administrator                            4872\n",
       "System administrator                              4828\n",
       "dtype: int64"
      ]
     },
     "execution_count": 34,
     "metadata": {},
     "output_type": "execute_result"
    }
   ],
   "source": [
    "devtype_totals = devtype_df.sum().sort_values(ascending=False)\n",
    "devtype_totals.head(10)"
   ]
  },
  {
   "cell_type": "code",
   "execution_count": 35,
   "id": "8b94b7c1",
   "metadata": {},
   "outputs": [
    {
     "data": {
      "image/png": "[encoded data removed]",
      "text/plain": [
       "<Figure size 864x432 with 1 Axes>"
      ]
     },
     "metadata": {
      "needs_background": "light"
     },
     "output_type": "display_data"
    }
   ],
   "source": [
    "top_10_devtype = devtype_totals.head(10)\n",
    "\n",
    "plt.figure(figsize=(12,6))\n",
    "plt.xticks(rotation= 'vertical')\n",
    "plt.title(schema.DevType)\n",
    "sns.barplot(x=top_10_devtype.index, y=top_10_devtype, palette = 'Blues_r');"
   ]
  },
  {
   "cell_type": "markdown",
   "id": "d19c8ae4",
   "metadata": {},
   "source": [
    "### Coding Resources"
   ]
  },
  {
   "cell_type": "code",
   "execution_count": 36,
   "id": "b4447236",
   "metadata": {},
   "outputs": [
    {
     "data": {
      "text/plain": [
       "'What online courses or certifications do you use to learn to code? Select all that apply.'"
      ]
     },
     "execution_count": 36,
     "metadata": {},
     "output_type": "execute_result"
    }
   ],
   "source": [
    "schema.LearnCodeCoursesCert  "
   ]
  },
  {
   "cell_type": "code",
   "execution_count": 37,
   "id": "e5840630",
   "metadata": {},
   "outputs": [
    {
     "data": {
      "text/html": [
       "<div>\n",
       "<style scoped>\n",
       "    .dataframe tbody tr th:only-of-type {\n",
       "        vertical-align: middle;\n",
       "    }\n",
       "\n",
       "    .dataframe tbody tr th {\n",
       "        vertical-align: top;\n",
       "    }\n",
       "\n",
       "    .dataframe thead th {\n",
       "        text-align: right;\n",
       "    }\n",
       "</style>\n",
       "<table border=\"1\" class=\"dataframe\">\n",
       "  <thead>\n",
       "    <tr style=\"text-align: right;\">\n",
       "      <th></th>\n",
       "      <th>Coursera</th>\n",
       "      <th>Udemy</th>\n",
       "      <th>Codecademy</th>\n",
       "      <th>Pluralsight</th>\n",
       "      <th>edX</th>\n",
       "      <th>Udacity</th>\n",
       "      <th>Other</th>\n",
       "      <th>Skillsoft</th>\n",
       "    </tr>\n",
       "    <tr>\n",
       "      <th>ResponseId</th>\n",
       "      <th></th>\n",
       "      <th></th>\n",
       "      <th></th>\n",
       "      <th></th>\n",
       "      <th></th>\n",
       "      <th></th>\n",
       "      <th></th>\n",
       "      <th></th>\n",
       "    </tr>\n",
       "  </thead>\n",
       "  <tbody>\n",
       "    <tr>\n",
       "      <th>1</th>\n",
       "      <td>False</td>\n",
       "      <td>False</td>\n",
       "      <td>False</td>\n",
       "      <td>False</td>\n",
       "      <td>False</td>\n",
       "      <td>False</td>\n",
       "      <td>False</td>\n",
       "      <td>False</td>\n",
       "    </tr>\n",
       "    <tr>\n",
       "      <th>2</th>\n",
       "      <td>False</td>\n",
       "      <td>False</td>\n",
       "      <td>False</td>\n",
       "      <td>False</td>\n",
       "      <td>False</td>\n",
       "      <td>False</td>\n",
       "      <td>False</td>\n",
       "      <td>False</td>\n",
       "    </tr>\n",
       "    <tr>\n",
       "      <th>3</th>\n",
       "      <td>False</td>\n",
       "      <td>False</td>\n",
       "      <td>False</td>\n",
       "      <td>False</td>\n",
       "      <td>False</td>\n",
       "      <td>False</td>\n",
       "      <td>False</td>\n",
       "      <td>False</td>\n",
       "    </tr>\n",
       "    <tr>\n",
       "      <th>4</th>\n",
       "      <td>False</td>\n",
       "      <td>False</td>\n",
       "      <td>False</td>\n",
       "      <td>False</td>\n",
       "      <td>False</td>\n",
       "      <td>False</td>\n",
       "      <td>False</td>\n",
       "      <td>False</td>\n",
       "    </tr>\n",
       "    <tr>\n",
       "      <th>5</th>\n",
       "      <td>False</td>\n",
       "      <td>False</td>\n",
       "      <td>False</td>\n",
       "      <td>False</td>\n",
       "      <td>False</td>\n",
       "      <td>False</td>\n",
       "      <td>False</td>\n",
       "      <td>False</td>\n",
       "    </tr>\n",
       "  </tbody>\n",
       "</table>\n",
       "</div>"
      ],
      "text/plain": [
       "            Coursera  Udemy  Codecademy  Pluralsight    edX  Udacity  Other  \\\n",
       "ResponseId                                                                    \n",
       "1              False  False       False        False  False    False  False   \n",
       "2              False  False       False        False  False    False  False   \n",
       "3              False  False       False        False  False    False  False   \n",
       "4              False  False       False        False  False    False  False   \n",
       "5              False  False       False        False  False    False  False   \n",
       "\n",
       "            Skillsoft  \n",
       "ResponseId             \n",
       "1               False  \n",
       "2               False  \n",
       "3               False  \n",
       "4               False  \n",
       "5               False  "
      ]
     },
     "execution_count": 37,
     "metadata": {},
     "output_type": "execute_result"
    }
   ],
   "source": [
    "learncode_df = split_multicolumn(survey_df.LearnCodeCoursesCert)\n",
    "learncode_df.head()"
   ]
  },
  {
   "cell_type": "code",
   "execution_count": 38,
   "id": "2b2af8fc",
   "metadata": {},
   "outputs": [],
   "source": [
    "learncode_totals = learncode_df.sum().sort_values(ascending=False)"
   ]
  },
  {
   "cell_type": "code",
   "execution_count": 39,
   "id": "b5af9cb0",
   "metadata": {},
   "outputs": [
    {
     "data": {
      "image/png": "[encoded data removed]",
      "text/plain": [
       "<Figure size 864x432 with 1 Axes>"
      ]
     },
     "metadata": {
      "needs_background": "light"
     },
     "output_type": "display_data"
    }
   ],
   "source": [
    "plt.figure(figsize=(12,6))\n",
    "plt.xticks(rotation= 'vertical')\n",
    "plt.title(schema.LearnCodeOnline)\n",
    "sns.barplot(x= learncode_totals.index, y= learncode_totals, palette = 'Blues_r');"
   ]
  },
  {
   "cell_type": "markdown",
   "id": "19b93a65",
   "metadata": {},
   "source": [
    "### Languages Worked With"
   ]
  },
  {
   "cell_type": "code",
   "execution_count": 40,
   "id": "3ba2e526",
   "metadata": {},
   "outputs": [
    {
     "data": {
      "text/plain": [
       "ResponseId\n",
       "1                                                      NaN\n",
       "2                                    JavaScript;TypeScript\n",
       "3                        C#;C++;HTML/CSS;JavaScript;Python\n",
       "4                             C#;JavaScript;SQL;TypeScript\n",
       "5              C#;HTML/CSS;JavaScript;SQL;Swift;TypeScript\n",
       "                               ...                        \n",
       "73264    Bash/Shell;Dart;JavaScript;PHP;Python;SQL;Type...\n",
       "73265            Bash/Shell;HTML/CSS;JavaScript;Python;SQL\n",
       "73266                   HTML/CSS;JavaScript;PHP;Python;SQL\n",
       "73267                                        C#;Delphi;VBA\n",
       "73268          C#;JavaScript;Lua;PowerShell;SQL;TypeScript\n",
       "Name: LanguageHaveWorkedWith, Length: 73268, dtype: object"
      ]
     },
     "execution_count": 40,
     "metadata": {},
     "output_type": "execute_result"
    }
   ],
   "source": [
    "survey_df.LanguageHaveWorkedWith"
   ]
  },
  {
   "cell_type": "code",
   "execution_count": 41,
   "id": "09c7109a",
   "metadata": {},
   "outputs": [
    {
     "data": {
      "text/html": [
       "<div>\n",
       "<style scoped>\n",
       "    .dataframe tbody tr th:only-of-type {\n",
       "        vertical-align: middle;\n",
       "    }\n",
       "\n",
       "    .dataframe tbody tr th {\n",
       "        vertical-align: top;\n",
       "    }\n",
       "\n",
       "    .dataframe thead th {\n",
       "        text-align: right;\n",
       "    }\n",
       "</style>\n",
       "<table border=\"1\" class=\"dataframe\">\n",
       "  <thead>\n",
       "    <tr style=\"text-align: right;\">\n",
       "      <th></th>\n",
       "      <th>JavaScript</th>\n",
       "      <th>TypeScript</th>\n",
       "      <th>C#</th>\n",
       "      <th>C++</th>\n",
       "      <th>HTML/CSS</th>\n",
       "      <th>Python</th>\n",
       "      <th>SQL</th>\n",
       "      <th>Swift</th>\n",
       "      <th>Lua</th>\n",
       "      <th>PHP</th>\n",
       "      <th>...</th>\n",
       "      <th>F#</th>\n",
       "      <th>Clojure</th>\n",
       "      <th>APL</th>\n",
       "      <th>Crystal</th>\n",
       "      <th>Fortran</th>\n",
       "      <th>Objective-C</th>\n",
       "      <th>SAS</th>\n",
       "      <th>OCaml</th>\n",
       "      <th>Solidity</th>\n",
       "      <th>COBOL</th>\n",
       "    </tr>\n",
       "    <tr>\n",
       "      <th>ResponseId</th>\n",
       "      <th></th>\n",
       "      <th></th>\n",
       "      <th></th>\n",
       "      <th></th>\n",
       "      <th></th>\n",
       "      <th></th>\n",
       "      <th></th>\n",
       "      <th></th>\n",
       "      <th></th>\n",
       "      <th></th>\n",
       "      <th></th>\n",
       "      <th></th>\n",
       "      <th></th>\n",
       "      <th></th>\n",
       "      <th></th>\n",
       "      <th></th>\n",
       "      <th></th>\n",
       "      <th></th>\n",
       "      <th></th>\n",
       "      <th></th>\n",
       "      <th></th>\n",
       "    </tr>\n",
       "  </thead>\n",
       "  <tbody>\n",
       "    <tr>\n",
       "      <th>1</th>\n",
       "      <td>False</td>\n",
       "      <td>False</td>\n",
       "      <td>False</td>\n",
       "      <td>False</td>\n",
       "      <td>False</td>\n",
       "      <td>False</td>\n",
       "      <td>False</td>\n",
       "      <td>False</td>\n",
       "      <td>False</td>\n",
       "      <td>False</td>\n",
       "      <td>...</td>\n",
       "      <td>False</td>\n",
       "      <td>False</td>\n",
       "      <td>False</td>\n",
       "      <td>False</td>\n",
       "      <td>False</td>\n",
       "      <td>False</td>\n",
       "      <td>False</td>\n",
       "      <td>False</td>\n",
       "      <td>False</td>\n",
       "      <td>False</td>\n",
       "    </tr>\n",
       "    <tr>\n",
       "      <th>2</th>\n",
       "      <td>True</td>\n",
       "      <td>True</td>\n",
       "      <td>False</td>\n",
       "      <td>False</td>\n",
       "      <td>False</td>\n",
       "      <td>False</td>\n",
       "      <td>False</td>\n",
       "      <td>False</td>\n",
       "      <td>False</td>\n",
       "      <td>False</td>\n",
       "      <td>...</td>\n",
       "      <td>False</td>\n",
       "      <td>False</td>\n",
       "      <td>False</td>\n",
       "      <td>False</td>\n",
       "      <td>False</td>\n",
       "      <td>False</td>\n",
       "      <td>False</td>\n",
       "      <td>False</td>\n",
       "      <td>False</td>\n",
       "      <td>False</td>\n",
       "    </tr>\n",
       "    <tr>\n",
       "      <th>3</th>\n",
       "      <td>True</td>\n",
       "      <td>False</td>\n",
       "      <td>True</td>\n",
       "      <td>True</td>\n",
       "      <td>True</td>\n",
       "      <td>True</td>\n",
       "      <td>False</td>\n",
       "      <td>False</td>\n",
       "      <td>False</td>\n",
       "      <td>False</td>\n",
       "      <td>...</td>\n",
       "      <td>False</td>\n",
       "      <td>False</td>\n",
       "      <td>False</td>\n",
       "      <td>False</td>\n",
       "      <td>False</td>\n",
       "      <td>False</td>\n",
       "      <td>False</td>\n",
       "      <td>False</td>\n",
       "      <td>False</td>\n",
       "      <td>False</td>\n",
       "    </tr>\n",
       "    <tr>\n",
       "      <th>4</th>\n",
       "      <td>True</td>\n",
       "      <td>True</td>\n",
       "      <td>True</td>\n",
       "      <td>False</td>\n",
       "      <td>False</td>\n",
       "      <td>False</td>\n",
       "      <td>True</td>\n",
       "      <td>False</td>\n",
       "      <td>False</td>\n",
       "      <td>False</td>\n",
       "      <td>...</td>\n",
       "      <td>False</td>\n",
       "      <td>False</td>\n",
       "      <td>False</td>\n",
       "      <td>False</td>\n",
       "      <td>False</td>\n",
       "      <td>False</td>\n",
       "      <td>False</td>\n",
       "      <td>False</td>\n",
       "      <td>False</td>\n",
       "      <td>False</td>\n",
       "    </tr>\n",
       "    <tr>\n",
       "      <th>5</th>\n",
       "      <td>True</td>\n",
       "      <td>True</td>\n",
       "      <td>True</td>\n",
       "      <td>False</td>\n",
       "      <td>True</td>\n",
       "      <td>False</td>\n",
       "      <td>True</td>\n",
       "      <td>True</td>\n",
       "      <td>False</td>\n",
       "      <td>False</td>\n",
       "      <td>...</td>\n",
       "      <td>False</td>\n",
       "      <td>False</td>\n",
       "      <td>False</td>\n",
       "      <td>False</td>\n",
       "      <td>False</td>\n",
       "      <td>False</td>\n",
       "      <td>False</td>\n",
       "      <td>False</td>\n",
       "      <td>False</td>\n",
       "      <td>False</td>\n",
       "    </tr>\n",
       "  </tbody>\n",
       "</table>\n",
       "<p>5 rows × 42 columns</p>\n",
       "</div>"
      ],
      "text/plain": [
       "            JavaScript  TypeScript     C#    C++  HTML/CSS  Python    SQL  \\\n",
       "ResponseId                                                                  \n",
       "1                False       False  False  False     False   False  False   \n",
       "2                 True        True  False  False     False   False  False   \n",
       "3                 True       False   True   True      True    True  False   \n",
       "4                 True        True   True  False     False   False   True   \n",
       "5                 True        True   True  False      True   False   True   \n",
       "\n",
       "            Swift    Lua    PHP  ...     F#  Clojure    APL  Crystal  Fortran  \\\n",
       "ResponseId                       ...                                            \n",
       "1           False  False  False  ...  False    False  False    False    False   \n",
       "2           False  False  False  ...  False    False  False    False    False   \n",
       "3           False  False  False  ...  False    False  False    False    False   \n",
       "4           False  False  False  ...  False    False  False    False    False   \n",
       "5            True  False  False  ...  False    False  False    False    False   \n",
       "\n",
       "            Objective-C    SAS  OCaml  Solidity  COBOL  \n",
       "ResponseId                                              \n",
       "1                 False  False  False     False  False  \n",
       "2                 False  False  False     False  False  \n",
       "3                 False  False  False     False  False  \n",
       "4                 False  False  False     False  False  \n",
       "5                 False  False  False     False  False  \n",
       "\n",
       "[5 rows x 42 columns]"
      ]
     },
     "execution_count": 41,
     "metadata": {},
     "output_type": "execute_result"
    }
   ],
   "source": [
    "language_df = split_multicolumn(survey_df.LanguageHaveWorkedWith)\n",
    "language_df.head()"
   ]
  },
  {
   "cell_type": "code",
   "execution_count": 42,
   "id": "f375eb3a",
   "metadata": {},
   "outputs": [
    {
     "data": {
      "text/plain": [
       "JavaScript    62.740896\n",
       "HTML/CSS      52.838893\n",
       "SQL           47.472293\n",
       "Python        46.093793\n",
       "TypeScript    33.397936\n",
       "dtype: float64"
      ]
     },
     "execution_count": 42,
     "metadata": {},
     "output_type": "execute_result"
    }
   ],
   "source": [
    "languages_percentage = language_df.mean().sort_values(ascending=False) * 100\n",
    "languages_percentage.head()"
   ]
  },
  {
   "cell_type": "code",
   "execution_count": 43,
   "id": "71ea078b",
   "metadata": {
    "scrolled": true
   },
   "outputs": [
    {
     "data": {
      "image/png": "[encoded data removed]",
      "text/plain": [
       "<Figure size 720x360 with 1 Axes>"
      ]
     },
     "metadata": {
      "needs_background": "light"
     },
     "output_type": "display_data"
    }
   ],
   "source": [
    "sns.barplot(x= languages_percentage.head(10), y=languages_percentage.head(10).index, palette = 'Blues_r')\n",
    "plt.title('Languages Worked With')\n",
    "plt.ylabel(None);\n",
    "plt.xlabel('Percentage (%)');"
   ]
  },
  {
   "cell_type": "markdown",
   "id": "29c7ec58",
   "metadata": {},
   "source": [
    "### Languages Desired To Learn "
   ]
  },
  {
   "cell_type": "code",
   "execution_count": 44,
   "id": "5c2e2e8d",
   "metadata": {},
   "outputs": [
    {
     "data": {
      "text/plain": [
       "ResponseId\n",
       "1                                                   NaN\n",
       "2                                       Rust;TypeScript\n",
       "3                 C#;C++;HTML/CSS;JavaScript;TypeScript\n",
       "4                                     C#;SQL;TypeScript\n",
       "5            C#;Elixir;F#;Go;JavaScript;Rust;TypeScript\n",
       "                              ...                      \n",
       "73264    Bash/Shell;Go;JavaScript;Python;SQL;TypeScript\n",
       "73265                        HTML/CSS;JavaScript;Python\n",
       "73266             C#;HTML/CSS;JavaScript;PHP;Python;SQL\n",
       "73267                                            Delphi\n",
       "73268                        PowerShell;Rust;TypeScript\n",
       "Name: LanguageWantToWorkWith, Length: 73268, dtype: object"
      ]
     },
     "execution_count": 44,
     "metadata": {},
     "output_type": "execute_result"
    }
   ],
   "source": [
    "survey_df.LanguageWantToWorkWith  "
   ]
  },
  {
   "cell_type": "code",
   "execution_count": 45,
   "id": "e4f8a3c1",
   "metadata": {},
   "outputs": [
    {
     "data": {
      "text/html": [
       "<div>\n",
       "<style scoped>\n",
       "    .dataframe tbody tr th:only-of-type {\n",
       "        vertical-align: middle;\n",
       "    }\n",
       "\n",
       "    .dataframe tbody tr th {\n",
       "        vertical-align: top;\n",
       "    }\n",
       "\n",
       "    .dataframe thead th {\n",
       "        text-align: right;\n",
       "    }\n",
       "</style>\n",
       "<table border=\"1\" class=\"dataframe\">\n",
       "  <thead>\n",
       "    <tr style=\"text-align: right;\">\n",
       "      <th></th>\n",
       "      <th>Rust</th>\n",
       "      <th>TypeScript</th>\n",
       "      <th>C#</th>\n",
       "      <th>C++</th>\n",
       "      <th>HTML/CSS</th>\n",
       "      <th>JavaScript</th>\n",
       "      <th>SQL</th>\n",
       "      <th>Elixir</th>\n",
       "      <th>F#</th>\n",
       "      <th>Go</th>\n",
       "      <th>...</th>\n",
       "      <th>Assembly</th>\n",
       "      <th>Solidity</th>\n",
       "      <th>R</th>\n",
       "      <th>Crystal</th>\n",
       "      <th>Objective-C</th>\n",
       "      <th>SAS</th>\n",
       "      <th>OCaml</th>\n",
       "      <th>MATLAB</th>\n",
       "      <th>Fortran</th>\n",
       "      <th>COBOL</th>\n",
       "    </tr>\n",
       "    <tr>\n",
       "      <th>ResponseId</th>\n",
       "      <th></th>\n",
       "      <th></th>\n",
       "      <th></th>\n",
       "      <th></th>\n",
       "      <th></th>\n",
       "      <th></th>\n",
       "      <th></th>\n",
       "      <th></th>\n",
       "      <th></th>\n",
       "      <th></th>\n",
       "      <th></th>\n",
       "      <th></th>\n",
       "      <th></th>\n",
       "      <th></th>\n",
       "      <th></th>\n",
       "      <th></th>\n",
       "      <th></th>\n",
       "      <th></th>\n",
       "      <th></th>\n",
       "      <th></th>\n",
       "      <th></th>\n",
       "    </tr>\n",
       "  </thead>\n",
       "  <tbody>\n",
       "    <tr>\n",
       "      <th>1</th>\n",
       "      <td>False</td>\n",
       "      <td>False</td>\n",
       "      <td>False</td>\n",
       "      <td>False</td>\n",
       "      <td>False</td>\n",
       "      <td>False</td>\n",
       "      <td>False</td>\n",
       "      <td>False</td>\n",
       "      <td>False</td>\n",
       "      <td>False</td>\n",
       "      <td>...</td>\n",
       "      <td>False</td>\n",
       "      <td>False</td>\n",
       "      <td>False</td>\n",
       "      <td>False</td>\n",
       "      <td>False</td>\n",
       "      <td>False</td>\n",
       "      <td>False</td>\n",
       "      <td>False</td>\n",
       "      <td>False</td>\n",
       "      <td>False</td>\n",
       "    </tr>\n",
       "    <tr>\n",
       "      <th>2</th>\n",
       "      <td>True</td>\n",
       "      <td>True</td>\n",
       "      <td>False</td>\n",
       "      <td>False</td>\n",
       "      <td>False</td>\n",
       "      <td>False</td>\n",
       "      <td>False</td>\n",
       "      <td>False</td>\n",
       "      <td>False</td>\n",
       "      <td>False</td>\n",
       "      <td>...</td>\n",
       "      <td>False</td>\n",
       "      <td>False</td>\n",
       "      <td>False</td>\n",
       "      <td>False</td>\n",
       "      <td>False</td>\n",
       "      <td>False</td>\n",
       "      <td>False</td>\n",
       "      <td>False</td>\n",
       "      <td>False</td>\n",
       "      <td>False</td>\n",
       "    </tr>\n",
       "    <tr>\n",
       "      <th>3</th>\n",
       "      <td>False</td>\n",
       "      <td>True</td>\n",
       "      <td>True</td>\n",
       "      <td>True</td>\n",
       "      <td>True</td>\n",
       "      <td>True</td>\n",
       "      <td>False</td>\n",
       "      <td>False</td>\n",
       "      <td>False</td>\n",
       "      <td>False</td>\n",
       "      <td>...</td>\n",
       "      <td>False</td>\n",
       "      <td>False</td>\n",
       "      <td>False</td>\n",
       "      <td>False</td>\n",
       "      <td>False</td>\n",
       "      <td>False</td>\n",
       "      <td>False</td>\n",
       "      <td>False</td>\n",
       "      <td>False</td>\n",
       "      <td>False</td>\n",
       "    </tr>\n",
       "    <tr>\n",
       "      <th>4</th>\n",
       "      <td>False</td>\n",
       "      <td>True</td>\n",
       "      <td>True</td>\n",
       "      <td>False</td>\n",
       "      <td>False</td>\n",
       "      <td>False</td>\n",
       "      <td>True</td>\n",
       "      <td>False</td>\n",
       "      <td>False</td>\n",
       "      <td>False</td>\n",
       "      <td>...</td>\n",
       "      <td>False</td>\n",
       "      <td>False</td>\n",
       "      <td>False</td>\n",
       "      <td>False</td>\n",
       "      <td>False</td>\n",
       "      <td>False</td>\n",
       "      <td>False</td>\n",
       "      <td>False</td>\n",
       "      <td>False</td>\n",
       "      <td>False</td>\n",
       "    </tr>\n",
       "    <tr>\n",
       "      <th>5</th>\n",
       "      <td>True</td>\n",
       "      <td>True</td>\n",
       "      <td>True</td>\n",
       "      <td>False</td>\n",
       "      <td>False</td>\n",
       "      <td>True</td>\n",
       "      <td>False</td>\n",
       "      <td>True</td>\n",
       "      <td>True</td>\n",
       "      <td>True</td>\n",
       "      <td>...</td>\n",
       "      <td>False</td>\n",
       "      <td>False</td>\n",
       "      <td>False</td>\n",
       "      <td>False</td>\n",
       "      <td>False</td>\n",
       "      <td>False</td>\n",
       "      <td>False</td>\n",
       "      <td>False</td>\n",
       "      <td>False</td>\n",
       "      <td>False</td>\n",
       "    </tr>\n",
       "  </tbody>\n",
       "</table>\n",
       "<p>5 rows × 42 columns</p>\n",
       "</div>"
      ],
      "text/plain": [
       "             Rust  TypeScript     C#    C++  HTML/CSS  JavaScript    SQL  \\\n",
       "ResponseId                                                                 \n",
       "1           False       False  False  False     False       False  False   \n",
       "2            True        True  False  False     False       False  False   \n",
       "3           False        True   True   True      True        True  False   \n",
       "4           False        True   True  False     False       False   True   \n",
       "5            True        True   True  False     False        True  False   \n",
       "\n",
       "            Elixir     F#     Go  ...  Assembly  Solidity      R  Crystal  \\\n",
       "ResponseId                        ...                                       \n",
       "1            False  False  False  ...     False     False  False    False   \n",
       "2            False  False  False  ...     False     False  False    False   \n",
       "3            False  False  False  ...     False     False  False    False   \n",
       "4            False  False  False  ...     False     False  False    False   \n",
       "5             True   True   True  ...     False     False  False    False   \n",
       "\n",
       "            Objective-C    SAS  OCaml  MATLAB  Fortran  COBOL  \n",
       "ResponseId                                                     \n",
       "1                 False  False  False   False    False  False  \n",
       "2                 False  False  False   False    False  False  \n",
       "3                 False  False  False   False    False  False  \n",
       "4                 False  False  False   False    False  False  \n",
       "5                 False  False  False   False    False  False  \n",
       "\n",
       "[5 rows x 42 columns]"
      ]
     },
     "execution_count": 45,
     "metadata": {},
     "output_type": "execute_result"
    }
   ],
   "source": [
    "desired_language_df = split_multicolumn(survey_df.LanguageWantToWorkWith)\n",
    "desired_language_df.head()"
   ]
  },
  {
   "cell_type": "code",
   "execution_count": 46,
   "id": "386e80a0",
   "metadata": {},
   "outputs": [
    {
     "data": {
      "text/plain": [
       "JavaScript    42.631162\n",
       "Python        39.639406\n",
       "TypeScript    35.195447\n",
       "HTML/CSS      34.298739\n",
       "SQL           33.546705\n",
       "Rust          22.993667\n",
       "C#            21.174319\n",
       "Go            20.955943\n",
       "Java          18.026969\n",
       "Bash/Shell    17.811323\n",
       "dtype: float64"
      ]
     },
     "execution_count": 46,
     "metadata": {},
     "output_type": "execute_result"
    }
   ],
   "source": [
    "desired_language_percentage = desired_language_df.mean().sort_values(ascending=False) * 100\n",
    "desired_language_percentage.head(10)"
   ]
  },
  {
   "cell_type": "code",
   "execution_count": 47,
   "id": "1111d9bd",
   "metadata": {},
   "outputs": [
    {
     "data": {
      "image/png": "[encoded data removed]",
      "text/plain": [
       "<Figure size 720x360 with 1 Axes>"
      ]
     },
     "metadata": {
      "needs_background": "light"
     },
     "output_type": "display_data"
    }
   ],
   "source": [
    "sns.barplot(x= desired_language_percentage.head(10), y=desired_language_percentage.head(10).index, palette = 'Blues_r')\n",
    "plt.title('Languages Desired to Learn')\n",
    "plt.ylabel(None);\n",
    "plt.xlabel('Percentage (%)');"
   ]
  },
  {
   "cell_type": "markdown",
   "id": "c6beede7",
   "metadata": {},
   "source": [
    "## Employment\n",
    "\n",
    "Programmers frequently choose between contract or freelance work, therefore it would be interesting to analyze the distribution of full-time, part-time, and freelance employment. "
   ]
  },
  {
   "cell_type": "code",
   "execution_count": 48,
   "id": "1460ea38",
   "metadata": {},
   "outputs": [
    {
     "data": {
      "text/plain": [
       "'Which of the following best describes your current employment status?'"
      ]
     },
     "execution_count": 48,
     "metadata": {},
     "output_type": "execute_result"
    }
   ],
   "source": [
    "schema.Employment"
   ]
  },
  {
   "cell_type": "code",
   "execution_count": 49,
   "id": "6fe0eeb3",
   "metadata": {},
   "outputs": [
    {
     "data": {
      "text/plain": [
       "Employed, full-time                                                                                               42644\n",
       "Student, full-time                                                                                                 6663\n",
       "Independent contractor, freelancer, or self-employed                                                               4941\n",
       "Employed, full-time;Independent contractor, freelancer, or self-employed                                           3456\n",
       "Not employed, but looking for work                                                                                 1810\n",
       "                                                                                                                  ...  \n",
       "Student, part-time;Independent contractor, freelancer, or self-employed;Retired                                       1\n",
       "Employed, full-time;Student, full-time;Student, part-time;Independent contractor, freelancer, or self-employed        1\n",
       "Employed, part-time;Not employed, and not looking for work                                                            1\n",
       "Employed, full-time;Student, full-time;Retired                                                                        1\n",
       "Student, part-time;Independent contractor, freelancer, or self-employed;Employed, part-time;Retired                   1\n",
       "Name: Employment, Length: 100, dtype: int64"
      ]
     },
     "execution_count": 49,
     "metadata": {},
     "output_type": "execute_result"
    }
   ],
   "source": [
    "survey_df.Employment.value_counts()"
   ]
  },
  {
   "cell_type": "code",
   "execution_count": 50,
   "id": "0e335614",
   "metadata": {},
   "outputs": [
    {
     "data": {
      "text/html": [
       "<div>\n",
       "<style scoped>\n",
       "    .dataframe tbody tr th:only-of-type {\n",
       "        vertical-align: middle;\n",
       "    }\n",
       "\n",
       "    .dataframe tbody tr th {\n",
       "        vertical-align: top;\n",
       "    }\n",
       "\n",
       "    .dataframe thead th {\n",
       "        text-align: right;\n",
       "    }\n",
       "</style>\n",
       "<table border=\"1\" class=\"dataframe\">\n",
       "  <thead>\n",
       "    <tr style=\"text-align: right;\">\n",
       "      <th></th>\n",
       "      <th>Employed, full-time</th>\n",
       "      <th>Student, full-time</th>\n",
       "      <th>Student, part-time</th>\n",
       "      <th>Not employed, but looking for work</th>\n",
       "      <th>Independent contractor, freelancer, or self-employed</th>\n",
       "      <th>Employed, part-time</th>\n",
       "      <th>Not employed, and not looking for work</th>\n",
       "      <th>Retired</th>\n",
       "      <th>I prefer not to say</th>\n",
       "    </tr>\n",
       "    <tr>\n",
       "      <th>ResponseId</th>\n",
       "      <th></th>\n",
       "      <th></th>\n",
       "      <th></th>\n",
       "      <th></th>\n",
       "      <th></th>\n",
       "      <th></th>\n",
       "      <th></th>\n",
       "      <th></th>\n",
       "      <th></th>\n",
       "    </tr>\n",
       "  </thead>\n",
       "  <tbody>\n",
       "    <tr>\n",
       "      <th>1</th>\n",
       "      <td>False</td>\n",
       "      <td>False</td>\n",
       "      <td>False</td>\n",
       "      <td>False</td>\n",
       "      <td>False</td>\n",
       "      <td>False</td>\n",
       "      <td>False</td>\n",
       "      <td>False</td>\n",
       "      <td>False</td>\n",
       "    </tr>\n",
       "    <tr>\n",
       "      <th>2</th>\n",
       "      <td>True</td>\n",
       "      <td>False</td>\n",
       "      <td>False</td>\n",
       "      <td>False</td>\n",
       "      <td>False</td>\n",
       "      <td>False</td>\n",
       "      <td>False</td>\n",
       "      <td>False</td>\n",
       "      <td>False</td>\n",
       "    </tr>\n",
       "    <tr>\n",
       "      <th>3</th>\n",
       "      <td>True</td>\n",
       "      <td>False</td>\n",
       "      <td>False</td>\n",
       "      <td>False</td>\n",
       "      <td>False</td>\n",
       "      <td>False</td>\n",
       "      <td>False</td>\n",
       "      <td>False</td>\n",
       "      <td>False</td>\n",
       "    </tr>\n",
       "    <tr>\n",
       "      <th>4</th>\n",
       "      <td>True</td>\n",
       "      <td>False</td>\n",
       "      <td>False</td>\n",
       "      <td>False</td>\n",
       "      <td>False</td>\n",
       "      <td>False</td>\n",
       "      <td>False</td>\n",
       "      <td>False</td>\n",
       "      <td>False</td>\n",
       "    </tr>\n",
       "    <tr>\n",
       "      <th>5</th>\n",
       "      <td>True</td>\n",
       "      <td>False</td>\n",
       "      <td>False</td>\n",
       "      <td>False</td>\n",
       "      <td>False</td>\n",
       "      <td>False</td>\n",
       "      <td>False</td>\n",
       "      <td>False</td>\n",
       "      <td>False</td>\n",
       "    </tr>\n",
       "  </tbody>\n",
       "</table>\n",
       "</div>"
      ],
      "text/plain": [
       "            Employed, full-time  Student, full-time  Student, part-time  \\\n",
       "ResponseId                                                                \n",
       "1                         False               False               False   \n",
       "2                          True               False               False   \n",
       "3                          True               False               False   \n",
       "4                          True               False               False   \n",
       "5                          True               False               False   \n",
       "\n",
       "            Not employed, but looking for work  \\\n",
       "ResponseId                                       \n",
       "1                                        False   \n",
       "2                                        False   \n",
       "3                                        False   \n",
       "4                                        False   \n",
       "5                                        False   \n",
       "\n",
       "            Independent contractor, freelancer, or self-employed  \\\n",
       "ResponseId                                                         \n",
       "1                                                       False      \n",
       "2                                                       False      \n",
       "3                                                       False      \n",
       "4                                                       False      \n",
       "5                                                       False      \n",
       "\n",
       "            Employed, part-time  Not employed, and not looking for work  \\\n",
       "ResponseId                                                                \n",
       "1                         False                                   False   \n",
       "2                         False                                   False   \n",
       "3                         False                                   False   \n",
       "4                         False                                   False   \n",
       "5                         False                                   False   \n",
       "\n",
       "            Retired  I prefer not to say  \n",
       "ResponseId                                \n",
       "1             False                False  \n",
       "2             False                False  \n",
       "3             False                False  \n",
       "4             False                False  \n",
       "5             False                False  "
      ]
     },
     "execution_count": 50,
     "metadata": {},
     "output_type": "execute_result"
    }
   ],
   "source": [
    "#Using the helper function to split the response into a stand-alone column\n",
    "emp_type_df = split_multicolumn(survey_df.Employment)\n",
    "emp_type_df.head()"
   ]
  },
  {
   "cell_type": "code",
   "execution_count": 51,
   "id": "08dc1e04",
   "metadata": {},
   "outputs": [
    {
     "data": {
      "text/plain": [
       "Employed, full-time                                     48808\n",
       "Student, full-time                                      10752\n",
       "Independent contractor, freelancer, or self-employed    10604\n",
       "Employed, part-time                                      4089\n",
       "Student, part-time                                       3672\n",
       "Not employed, but looking for work                       3321\n",
       "Not employed, and not looking for work                   1205\n",
       "I prefer not to say                                       599\n",
       "Retired                                                   384\n",
       "dtype: int64"
      ]
     },
     "execution_count": 51,
     "metadata": {},
     "output_type": "execute_result"
    }
   ],
   "source": [
    "emp_type_totals = emp_type_df.sum().sort_values(ascending = False)\n",
    "emp_type_totals"
   ]
  },
  {
   "cell_type": "markdown",
   "id": "c6b0c728",
   "metadata": {},
   "source": [
    "##### As one might expect, the most common employment type is \"Employed, full-time\" "
   ]
  },
  {
   "cell_type": "code",
   "execution_count": 52,
   "id": "38034b39",
   "metadata": {},
   "outputs": [
    {
     "data": {
      "image/png": "[encoded data removed]",
      "text/plain": [
       "<Figure size 864x432 with 1 Axes>"
      ]
     },
     "metadata": {
      "needs_background": "light"
     },
     "output_type": "display_data"
    }
   ],
   "source": [
    "emp_type_totals.sort_values(ascending = True ).plot(\n",
    "                                                kind= 'barh', \n",
    "                                                color = 'pink', \n",
    "                                                figsize = (12,6), \n",
    "                                                title = schema.Employment, \n",
    "                                                xlabel = 'emp_totals');"
   ]
  },
  {
   "cell_type": "markdown",
   "id": "c30cf919",
   "metadata": {},
   "source": [
    "### Total Compensation (salary, bonuses, and perks, before taxes and deductions)"
   ]
  },
  {
   "cell_type": "code",
   "execution_count": 53,
   "id": "6145e4d6",
   "metadata": {},
   "outputs": [
    {
     "data": {
      "text/plain": [
       "'Is that compensation weekly, monthly, or yearly?'"
      ]
     },
     "execution_count": 53,
     "metadata": {},
     "output_type": "execute_result"
    }
   ],
   "source": [
    "schema.CompFreq"
   ]
  },
  {
   "cell_type": "code",
   "execution_count": 54,
   "id": "c782b127",
   "metadata": {},
   "outputs": [
    {
     "data": {
      "text/plain": [
       "other      29195\n",
       "Yearly     23052\n",
       "Monthly    19864\n",
       "Weekly      1157\n",
       "Name: CompFreq, dtype: int64"
      ]
     },
     "execution_count": 54,
     "metadata": {},
     "output_type": "execute_result"
    }
   ],
   "source": [
    "survey_df.CompFreq = survey_df.CompFreq .fillna('other')\n",
    "comp_freq_counts = survey_df.CompFreq.value_counts()\n",
    "comp_freq_counts"
   ]
  },
  {
   "cell_type": "code",
   "execution_count": 55,
   "id": "29db8d22",
   "metadata": {},
   "outputs": [
    {
     "data": {
      "image/png": "[encoded data removed]",
      "text/plain": [
       "<Figure size 864x432 with 1 Axes>"
      ]
     },
     "metadata": {
      "needs_background": "light"
     },
     "output_type": "display_data"
    }
   ],
   "source": [
    "comp_freq_counts.sort_values(ascending = False ).plot(\n",
    "                                                kind= 'bar', \n",
    "                                                color = 'pink', \n",
    "                                                figsize = (12,6), \n",
    "                                                title = schema.CompFreq, \n",
    "                                                xlabel = 'Compensation');"
   ]
  },
  {
   "cell_type": "code",
   "execution_count": 56,
   "id": "fec1daa7",
   "metadata": {},
   "outputs": [
    {
     "data": {
      "text/plain": [
       "'What is your current total compensation (salary, bonuses, and perks, before taxes and deductions)? Please enter a whole number in the box below, without any punctuation.  If you are paid hourly, please estimate an equivalent weekly, monthly, or yearly salary. If you prefer not to answer, please leave the box empty.'"
      ]
     },
     "execution_count": 56,
     "metadata": {},
     "output_type": "execute_result"
    }
   ],
   "source": [
    "schema.CompTotal"
   ]
  },
  {
   "cell_type": "code",
   "execution_count": 57,
   "id": "70d29f1a",
   "metadata": {},
   "outputs": [
    {
     "data": {
      "text/plain": [
       "77000.0"
      ]
     },
     "execution_count": 57,
     "metadata": {},
     "output_type": "execute_result"
    }
   ],
   "source": [
    "# Median Salary of this survey\n",
    "survey_df.CompTotal.median()"
   ]
  },
  {
   "cell_type": "markdown",
   "id": "37a0bda9",
   "metadata": {},
   "source": [
    "## Stack Overflow Usage and Community"
   ]
  },
  {
   "cell_type": "markdown",
   "id": "e223356b",
   "metadata": {},
   "source": [
    "### Stack Overflow Account"
   ]
  },
  {
   "cell_type": "code",
   "execution_count": 58,
   "id": "ace5f270",
   "metadata": {},
   "outputs": [
    {
     "data": {
      "text/plain": [
       "'Do you have a Stack Overflow account?'"
      ]
     },
     "execution_count": 58,
     "metadata": {},
     "output_type": "execute_result"
    }
   ],
   "source": [
    "schema.SOAccount"
   ]
  },
  {
   "cell_type": "code",
   "execution_count": 59,
   "id": "87c6ed17",
   "metadata": {},
   "outputs": [
    {
     "data": {
      "text/plain": [
       "Yes                        57956\n",
       "No                          8865\n",
       "Not sure/can't remember     4059\n",
       "Name: SOAccount, dtype: int64"
      ]
     },
     "execution_count": 59,
     "metadata": {},
     "output_type": "execute_result"
    }
   ],
   "source": [
    "account = survey_df['SOAccount'].value_counts()\n",
    "account"
   ]
  },
  {
   "cell_type": "code",
   "execution_count": 60,
   "id": "a2c6d53f",
   "metadata": {
    "scrolled": false
   },
   "outputs": [
    {
     "data": {
      "image/png": "[encoded data removed]",
      "text/plain": [
       "<Figure size 864x432 with 1 Axes>"
      ]
     },
     "metadata": {
      "needs_background": "light"
     },
     "output_type": "display_data"
    }
   ],
   "source": [
    "plt.figure(figsize=(12,6))\n",
    "plt.title(schema.SOAccount)\n",
    "sns.barplot(x= account.index, y= account, palette = 'Blues_r');"
   ]
  },
  {
   "cell_type": "markdown",
   "id": "b8de13f5",
   "metadata": {},
   "source": [
    "### Stack Overflow Sites  Visits"
   ]
  },
  {
   "cell_type": "code",
   "execution_count": 61,
   "id": "39939824",
   "metadata": {},
   "outputs": [
    {
     "data": {
      "text/plain": [
       "'Which of the following Stack Overflow sites have you visited? Select all that apply.'"
      ]
     },
     "execution_count": 61,
     "metadata": {},
     "output_type": "execute_result"
    }
   ],
   "source": [
    "schema.NEWSOSites"
   ]
  },
  {
   "cell_type": "code",
   "execution_count": 62,
   "id": "2b008ad7",
   "metadata": {},
   "outputs": [
    {
     "data": {
      "text/html": [
       "<div>\n",
       "<style scoped>\n",
       "    .dataframe tbody tr th:only-of-type {\n",
       "        vertical-align: middle;\n",
       "    }\n",
       "\n",
       "    .dataframe tbody tr th {\n",
       "        vertical-align: top;\n",
       "    }\n",
       "\n",
       "    .dataframe thead th {\n",
       "        text-align: right;\n",
       "    }\n",
       "</style>\n",
       "<table border=\"1\" class=\"dataframe\">\n",
       "  <thead>\n",
       "    <tr style=\"text-align: right;\">\n",
       "      <th></th>\n",
       "      <th>Collectives on Stack Overflow</th>\n",
       "      <th>Stack Overflow for Teams (private knowledge sharing &amp; collaboration platform for companies)</th>\n",
       "      <th>Stack Overflow</th>\n",
       "      <th>Stack Exchange</th>\n",
       "      <th>I have never visited Stack Overflow or the Stack Exchange network</th>\n",
       "    </tr>\n",
       "    <tr>\n",
       "      <th>ResponseId</th>\n",
       "      <th></th>\n",
       "      <th></th>\n",
       "      <th></th>\n",
       "      <th></th>\n",
       "      <th></th>\n",
       "    </tr>\n",
       "  </thead>\n",
       "  <tbody>\n",
       "    <tr>\n",
       "      <th>1</th>\n",
       "      <td>False</td>\n",
       "      <td>False</td>\n",
       "      <td>False</td>\n",
       "      <td>False</td>\n",
       "      <td>False</td>\n",
       "    </tr>\n",
       "    <tr>\n",
       "      <th>2</th>\n",
       "      <td>True</td>\n",
       "      <td>True</td>\n",
       "      <td>True</td>\n",
       "      <td>True</td>\n",
       "      <td>False</td>\n",
       "    </tr>\n",
       "    <tr>\n",
       "      <th>3</th>\n",
       "      <td>True</td>\n",
       "      <td>False</td>\n",
       "      <td>True</td>\n",
       "      <td>True</td>\n",
       "      <td>False</td>\n",
       "    </tr>\n",
       "    <tr>\n",
       "      <th>4</th>\n",
       "      <td>True</td>\n",
       "      <td>True</td>\n",
       "      <td>True</td>\n",
       "      <td>True</td>\n",
       "      <td>False</td>\n",
       "    </tr>\n",
       "    <tr>\n",
       "      <th>5</th>\n",
       "      <td>True</td>\n",
       "      <td>True</td>\n",
       "      <td>True</td>\n",
       "      <td>True</td>\n",
       "      <td>False</td>\n",
       "    </tr>\n",
       "  </tbody>\n",
       "</table>\n",
       "</div>"
      ],
      "text/plain": [
       "            Collectives on Stack Overflow  \\\n",
       "ResponseId                                  \n",
       "1                                   False   \n",
       "2                                    True   \n",
       "3                                    True   \n",
       "4                                    True   \n",
       "5                                    True   \n",
       "\n",
       "            Stack Overflow for Teams (private knowledge sharing & collaboration platform for companies)  \\\n",
       "ResponseId                                                                                                \n",
       "1                                                       False                                             \n",
       "2                                                        True                                             \n",
       "3                                                       False                                             \n",
       "4                                                        True                                             \n",
       "5                                                        True                                             \n",
       "\n",
       "            Stack Overflow  Stack Exchange  \\\n",
       "ResponseId                                   \n",
       "1                    False           False   \n",
       "2                     True            True   \n",
       "3                     True            True   \n",
       "4                     True            True   \n",
       "5                     True            True   \n",
       "\n",
       "            I have never visited Stack Overflow or the Stack Exchange network  \n",
       "ResponseId                                                                     \n",
       "1                                                       False                  \n",
       "2                                                       False                  \n",
       "3                                                       False                  \n",
       "4                                                       False                  \n",
       "5                                                       False                  "
      ]
     },
     "execution_count": 62,
     "metadata": {},
     "output_type": "execute_result"
    }
   ],
   "source": [
    "#Using the helper function to split the response into a stand-alone column\n",
    "newsosites_df = split_multicolumn(survey_df.NEWSOSites)\n",
    "newsosites_df.head()"
   ]
  },
  {
   "cell_type": "code",
   "execution_count": 63,
   "id": "f5b6f79d",
   "metadata": {},
   "outputs": [
    {
     "data": {
      "text/plain": [
       "Stack Overflow                                                                                 69212\n",
       "Stack Exchange                                                                                 48678\n",
       "Collectives on Stack Overflow                                                                   6699\n",
       "Stack Overflow for Teams (private knowledge sharing & collaboration platform for companies)     4121\n",
       "I have never visited Stack Overflow or the Stack Exchange network                                450\n",
       "dtype: int64"
      ]
     },
     "execution_count": 63,
     "metadata": {},
     "output_type": "execute_result"
    }
   ],
   "source": [
    "site_totals = newsosites_df.sum().sort_values(ascending = False)\n",
    "site_totals"
   ]
  },
  {
   "cell_type": "code",
   "execution_count": 64,
   "id": "d5c0b625",
   "metadata": {},
   "outputs": [
    {
     "data": {
      "image/png": "[encoded data removed]",
      "text/plain": [
       "<Figure size 864x432 with 1 Axes>"
      ]
     },
     "metadata": {
      "needs_background": "light"
     },
     "output_type": "display_data"
    }
   ],
   "source": [
    "site_totals.sort_values(ascending = True ).plot(\n",
    "                                                kind= 'barh', \n",
    "                                                color = 'pink', \n",
    "                                                figsize = (12,6), \n",
    "                                                title = schema.NEWSOSites, \n",
    "                                                xlabel = 'Stack Overflow Site');"
   ]
  },
  {
   "cell_type": "markdown",
   "id": "2509d016",
   "metadata": {},
   "source": [
    "### Frequency of Stack Overflow Site  Visits"
   ]
  },
  {
   "cell_type": "code",
   "execution_count": 65,
   "id": "2623bd89",
   "metadata": {},
   "outputs": [
    {
     "data": {
      "text/plain": [
       "'How frequently would you say you visit Stack Overflow?'"
      ]
     },
     "execution_count": 65,
     "metadata": {},
     "output_type": "execute_result"
    }
   ],
   "source": [
    "schema.SOVisitFreq"
   ]
  },
  {
   "cell_type": "code",
   "execution_count": 66,
   "id": "87c4dbd7",
   "metadata": {},
   "outputs": [
    {
     "data": {
      "text/plain": [
       "Daily or almost daily                  21529\n",
       "A few times per week                   19580\n",
       "Multiple times per day                 15845\n",
       "A few times per month or weekly        11037\n",
       "Less than once per month or monthly     2291\n",
       "Name: SOVisitFreq, dtype: int64"
      ]
     },
     "execution_count": 66,
     "metadata": {},
     "output_type": "execute_result"
    }
   ],
   "source": [
    "sovisitfreq= survey_df['SOVisitFreq'].value_counts()\n",
    "sovisitfreq"
   ]
  },
  {
   "cell_type": "code",
   "execution_count": 67,
   "id": "16a8a12f",
   "metadata": {},
   "outputs": [
    {
     "data": {
      "image/png": "[encoded data removed]",
      "text/plain": [
       "<Figure size 864x432 with 1 Axes>"
      ]
     },
     "metadata": {
      "needs_background": "light"
     },
     "output_type": "display_data"
    }
   ],
   "source": [
    "plt.figure(figsize=(12,6))\n",
    "plt.xticks(rotation= 'vertical')\n",
    "plt.title(schema.SOVisitFreq)\n",
    "sns.barplot(x= sovisitfreq.index, y= sovisitfreq, palette = 'Blues_r');"
   ]
  },
  {
   "cell_type": "markdown",
   "id": "7b7d59d9",
   "metadata": {},
   "source": [
    "### Stack Overflow Community"
   ]
  },
  {
   "cell_type": "code",
   "execution_count": 68,
   "id": "476aa569",
   "metadata": {},
   "outputs": [
    {
     "data": {
      "text/plain": [
       "'Do you consider yourself a member of the Stack Overflow community?'"
      ]
     },
     "execution_count": 68,
     "metadata": {},
     "output_type": "execute_result"
    }
   ],
   "source": [
    "schema.SOComm"
   ]
  },
  {
   "cell_type": "code",
   "execution_count": 69,
   "id": "9f057cbf",
   "metadata": {},
   "outputs": [
    {
     "data": {
      "text/plain": [
       "Yes, somewhat      19520\n",
       "No, not really     18503\n",
       "Neutral            14806\n",
       "Yes, definitely    10302\n",
       "No, not at all      6356\n",
       "Not sure            1231\n",
       "Name: SOComm, dtype: int64"
      ]
     },
     "execution_count": 69,
     "metadata": {},
     "output_type": "execute_result"
    }
   ],
   "source": [
    "comm= survey_df['SOComm'].value_counts()\n",
    "comm"
   ]
  },
  {
   "cell_type": "code",
   "execution_count": 70,
   "id": "6397c0e8",
   "metadata": {},
   "outputs": [
    {
     "data": {
      "image/png": "[encoded data removed]",
      "text/plain": [
       "<Figure size 864x432 with 1 Axes>"
      ]
     },
     "metadata": {
      "needs_background": "light"
     },
     "output_type": "display_data"
    }
   ],
   "source": [
    "plt.figure(figsize=(12,6))\n",
    "plt.xticks(rotation= 'vertical')\n",
    "plt.title(schema.SOComm)\n",
    "sns.barplot(x= comm.index, y= comm, palette = 'Blues_r');"
   ]
  },
  {
   "cell_type": "markdown",
   "id": "280b1868",
   "metadata": {},
   "source": [
    "## ADDITIONAL INSIGHTS"
   ]
  },
  {
   "cell_type": "markdown",
   "id": "d38a0c7d",
   "metadata": {},
   "source": [
    "##### 1. Number Percentage of respondents work in roles related to data science?* "
   ]
  },
  {
   "cell_type": "code",
   "execution_count": 71,
   "id": "bb92f339",
   "metadata": {},
   "outputs": [
    {
     "data": {
      "text/plain": [
       "3377"
      ]
     },
     "execution_count": 71,
     "metadata": {},
     "output_type": "execute_result"
    }
   ],
   "source": [
    "ds_ml_respondents = devtype_totals['Data scientist or machine learning specialist']\n",
    "ds_ml_respondents"
   ]
  },
  {
   "cell_type": "code",
   "execution_count": 72,
   "id": "4c72902c",
   "metadata": {},
   "outputs": [
    {
     "data": {
      "text/plain": [
       "0.81"
      ]
     },
     "execution_count": 72,
     "metadata": {},
     "output_type": "execute_result"
    }
   ],
   "source": [
    "dev_type = survey_df.DevType.value_counts() / survey_df.DevType.count()  * 100\n",
    "dev_type['Data scientist or machine learning specialist']\n",
    "round(dev_type['Data scientist or machine learning specialist'], 2)"
   ]
  },
  {
   "cell_type": "markdown",
   "id": "4589595b",
   "metadata": {},
   "source": [
    " ##### 2. Number Percentage of respondents work in roles related to data and business analyst?* "
   ]
  },
  {
   "cell_type": "code",
   "execution_count": 73,
   "id": "9be31b48",
   "metadata": {},
   "outputs": [
    {
     "data": {
      "text/plain": [
       "3166"
      ]
     },
     "execution_count": 73,
     "metadata": {},
     "output_type": "execute_result"
    }
   ],
   "source": [
    "dba_respondents = devtype_totals['Data or business analyst']\n",
    "dba_respondents"
   ]
  },
  {
   "cell_type": "code",
   "execution_count": 74,
   "id": "5d027b09",
   "metadata": {},
   "outputs": [
    {
     "data": {
      "text/plain": [
       "0.4"
      ]
     },
     "execution_count": 74,
     "metadata": {},
     "output_type": "execute_result"
    }
   ],
   "source": [
    "dev_type = survey_df.DevType.value_counts() / survey_df.DevType.count() * 100\n",
    "dev_type['Data or business analyst']\n",
    "round(dev_type['Data or business analyst'], 2)"
   ]
  }
 ],
 "metadata": {
  "kernelspec": {
   "display_name": "Python 3 (ipykernel)",
   "language": "python",
   "name": "python3"
  },
  "language_info": {
   "codemirror_mode": {
    "name": "ipython",
    "version": 3
   },
   "file_extension": ".py",
   "mimetype": "text/x-python",
   "name": "python",
   "nbconvert_exporter": "python",
   "pygments_lexer": "ipython3",
   "version": "3.9.12"
  }
 },
 "nbformat": 4,
 "nbformat_minor": 5
}
